{
 "cells": [
  {
   "cell_type": "markdown",
   "metadata": {},
   "source": [
    "# Quick primer on elections \n",
    "\n",
    "## Categories of vote\n",
    "\n",
    "**Abstention**: The ballot expresses no preference, i.e., it is blank.\n",
    "\n",
    "\n",
    "**Illegal**: The ballot expresses a preference which cannot be satisfied within the bounds of the election.\n",
    "        \n",
    "        In this election, this could involve:    \n",
    "        - The voter writing-in a name which they also selected.\n",
    "      \n",
    "        Back when we conducted the election via Canvas, we also had to worry about:\n",
    "        - The voter selecting more than the allowed number of candidates \n",
    "        - Selecting the maximum number and then writing in an additional candidate.\n",
    "\n",
    "**Cast** = abstentions + legal + illegal\n",
    "    \n",
    "    - Cast plays no role except for auditing \n",
    "\n",
    "**Valid** = legal + illegal\n",
    "    \n",
    "    - These determine the denominator when a position requires a majority (i.e., > 50%)\n",
    "    \n",
    "    - Note that abstentions do not count in the denominator\n",
    "\n"
   ]
  },
  {
   "cell_type": "code",
   "execution_count": 1,
   "metadata": {
    "ExecuteTime": {
     "end_time": "2019-03-17T17:54:22.691274Z",
     "start_time": "2019-03-17T17:54:21.482644Z"
    },
    "cell_style": "center",
    "code_folding": []
   },
   "outputs": [
    {
     "name": "stdout",
     "output_type": "stream",
     "text": [
      "/Users/adam/Dropbox/csun-election-management\n"
     ]
    }
   ],
   "source": [
    "%cd ~/Dropbox/csun-election-management\n",
    "YEAR =2019\n",
    "\n",
    "#Plotting \n",
    "%matplotlib inline\n",
    "from matplotlib import pyplot as plt\n",
    "# %config InlineBackend.figure_format = 'svg'\n",
    "import seaborn as sns\n",
    "sns.set(style=\"whitegrid\")\n",
    "\n",
    "#Base Classes stuff\n",
    "from FileSystemTools import *\n",
    "from UtilityDecorators import *\n",
    "from UtilityFunctions import *\n",
    "\n",
    "import pandas as pd\n",
    "from pandas import DataFrame, Series\n",
    "import numpy as np\n",
    "\n",
    "import counter.environment as env\n",
    "from counter.QualitricsHelpers import get_results_column_names, get_write_in_column_names\n",
    "from counter.QualitricsProcessors import process_results, save_results, process_field, process_voter, process_office_columns\n",
    "from counter.FileSystemTools import makeDataFileList\n",
    "# String processing of result cells\n",
    "from counter.StringProcessors import find_dept, remove_depts"
   ]
  },
  {
   "cell_type": "code",
   "execution_count": 45,
   "metadata": {
    "ExecuteTime": {
     "end_time": "2019-03-17T18:23:36.741376Z",
     "start_time": "2019-03-17T18:23:36.738739Z"
    }
   },
   "outputs": [],
   "source": [
    "import counter.PresentationHelpers as PH"
   ]
  },
  {
   "cell_type": "markdown",
   "metadata": {},
   "source": [
    "# Load and process data"
   ]
  },
  {
   "cell_type": "markdown",
   "metadata": {},
   "source": [
    "## Get results file"
   ]
  },
  {
   "cell_type": "code",
   "execution_count": 2,
   "metadata": {
    "ExecuteTime": {
     "end_time": "2019-03-17T17:54:22.697923Z",
     "start_time": "2019-03-17T17:54:22.693754Z"
    }
   },
   "outputs": [],
   "source": [
    "general_results_file = \"{}/general-{}.csv\".format(env.RESULTS_FOLDER_PATH, YEAR)\n",
    "sc_results_file = \"{}/standing-committees-{}.csv\".format(env.RESULTS_FOLDER_PATH, YEAR)\n",
    "general_definition_file = \"{}/general-definition-{}.xlsx\".format(env.DEFINITIONS_FOLDER_PATH, YEAR)\n",
    "sc_definition_file = \"{}/standing-committees-definition-{}.xlsx\".format(env.DEFINITIONS_FOLDER_PATH, YEAR)"
   ]
  },
  {
   "cell_type": "code",
   "execution_count": 3,
   "metadata": {
    "ExecuteTime": {
     "end_time": "2019-03-17T17:54:22.706534Z",
     "start_time": "2019-03-17T17:54:22.703661Z"
    }
   },
   "outputs": [],
   "source": [
    "from counter.QualitricsHelpers import load_and_prepare"
   ]
  },
  {
   "cell_type": "code",
   "execution_count": 4,
   "metadata": {
    "ExecuteTime": {
     "end_time": "2019-03-17T17:54:31.329158Z",
     "start_time": "2019-03-17T17:54:30.335741Z"
    }
   },
   "outputs": [],
   "source": [
    "general_data = load_and_prepare(general_results_file)\n",
    "sc_data = load_and_prepare(sc_results_file)"
   ]
  },
  {
   "cell_type": "markdown",
   "metadata": {},
   "source": [
    "## Process the data; save to excel files"
   ]
  },
  {
   "cell_type": "code",
   "execution_count": 5,
   "metadata": {
    "ExecuteTime": {
     "end_time": "2019-03-17T17:54:36.878701Z",
     "start_time": "2019-03-17T17:54:36.209499Z"
    }
   },
   "outputs": [],
   "source": [
    "general_results = process_results(general_data, general_definition_file, 'general')\n",
    "save_results(\"{}/general-results-{}.xlsx\".format(env.OUTPUT_FOLDER_PATH, YEAR), general_results)\n",
    "sc_results = process_results(sc_data, sc_definition_file, 'committees')\n",
    "save_results(\"{}/standing-committee-results-{}.xlsx\".format(env.OUTPUT_FOLDER_PATH, YEAR), sc_results)"
   ]
  },
  {
   "cell_type": "markdown",
   "metadata": {},
   "source": [
    "# General election results"
   ]
  },
  {
   "cell_type": "markdown",
   "metadata": {},
   "source": [
    "## Vote counts and percentage of total valid votes\n",
    "\n",
    "NB, Officers of the Faculty and the Statewide Senator must be elected by a majority of votes. Thus for these offices we need a run off if 'pct_of_valid' is not greater than %50 for one candidate. \n",
    "\n",
    "I've nonetheless included the percentage of valid votes for all other offices in case it is of interest."
   ]
  },
  {
   "cell_type": "code",
   "execution_count": 6,
   "metadata": {
    "ExecuteTime": {
     "end_time": "2019-03-17T17:54:40.989242Z",
     "start_time": "2019-03-17T17:54:40.986658Z"
    }
   },
   "outputs": [],
   "source": [
    "# from IPython.display import display, Math, Latex, HTML\n",
    "\n",
    "# def show_results_tables(results):\n",
    "#     for r in results:\n",
    "#         out = \"\"\"\\\\begin{figure}\n",
    "#         \\\\caption{%s}\n",
    "#         %s\n",
    "#         \\\\end{figure}\"\"\" % (r.officeName, r.combined_results_frame.T.to_latex())\n",
    "#         display(Latex(out))"
   ]
  },
  {
   "cell_type": "code",
   "execution_count": 7,
   "metadata": {
    "ExecuteTime": {
     "end_time": "2019-03-17T17:54:41.302617Z",
     "start_time": "2019-03-17T17:54:41.296334Z"
    },
    "deletable": false,
    "editable": false,
    "run_control": {
     "frozen": true
    }
   },
   "outputs": [],
   "source": [
    "from counter.PresentationHelpers import show_results_tables, plot_results"
   ]
  },
  {
   "cell_type": "code",
   "execution_count": 8,
   "metadata": {
    "ExecuteTime": {
     "end_time": "2019-03-17T17:54:41.729769Z",
     "start_time": "2019-03-17T17:54:41.636043Z"
    }
   },
   "outputs": [
    {
     "data": {
      "text/latex": [
       "\\begin{figure}\n",
       "        \\caption{Vice-President}\n",
       "        \\begin{tabular}{lrr}\n",
       "\\toprule\n",
       "{} &  number\\_votes &  pct\\_of\\_valid \\\\\n",
       "\\midrule\n",
       "Michael Neubauer    &         318.0 &     65.838509 \\\\\n",
       "Nazaret Dermendjian &         159.0 &     32.919255 \\\\\n",
       "Matthew Jackson     &           1.0 &      0.207039 \\\\\n",
       "Carrie Saetermoe    &           1.0 &      0.207039 \\\\\n",
       "Holli Tonyan        &           1.0 &      0.207039 \\\\\n",
       "Sylvia macualey     &           1.0 &      0.207039 \\\\\n",
       "Wayne Smith         &           1.0 &      0.207039 \\\\\n",
       "\\bottomrule\n",
       "\\end{tabular}\n",
       "\n",
       "        \\end{figure}"
      ],
      "text/plain": [
       "<IPython.core.display.Latex object>"
      ]
     },
     "metadata": {},
     "output_type": "display_data"
    },
    {
     "data": {
      "text/latex": [
       "\\begin{figure}\n",
       "        \\caption{Secretary}\n",
       "        \\begin{tabular}{lrr}\n",
       "\\toprule\n",
       "{} &  number\\_votes &  pct\\_of\\_valid \\\\\n",
       "\\midrule\n",
       "Kim Henige        &         455.0 &     99.562363 \\\\\n",
       "Judy Schmidt-Levy &           1.0 &      0.218818 \\\\\n",
       "Renee Moreno      &           1.0 &      0.218818 \\\\\n",
       "\\bottomrule\n",
       "\\end{tabular}\n",
       "\n",
       "        \\end{figure}"
      ],
      "text/plain": [
       "<IPython.core.display.Latex object>"
      ]
     },
     "metadata": {},
     "output_type": "display_data"
    },
    {
     "data": {
      "text/latex": [
       "\\begin{figure}\n",
       "        \\caption{Statewide Senator}\n",
       "        \\begin{tabular}{lrr}\n",
       "\\toprule\n",
       "{} &  number\\_votes &  pct\\_of\\_valid \\\\\n",
       "\\midrule\n",
       "Adam Swenson   &         186.0 &     37.959184 \\\\\n",
       "Boris Ricks    &         122.0 &     24.897959 \\\\\n",
       "Sandra Chong   &          65.0 &     13.265306 \\\\\n",
       "Jeanine Minge  &          61.0 &     12.448980 \\\\\n",
       "Wayne Smith    &          54.0 &     11.020408 \\\\\n",
       "Santosh Khadka &           1.0 &      0.204082 \\\\\n",
       "None           &           1.0 &      0.204082 \\\\\n",
       "\\bottomrule\n",
       "\\end{tabular}\n",
       "\n",
       "        \\end{figure}"
      ],
      "text/plain": [
       "<IPython.core.display.Latex object>"
      ]
     },
     "metadata": {},
     "output_type": "display_data"
    },
    {
     "data": {
      "text/latex": [
       "\\begin{figure}\n",
       "        \\caption{Senator-at-Large}\n",
       "        \\begin{tabular}{lrr}\n",
       "\\toprule\n",
       "{} &  number\\_votes &  pct\\_of\\_valid \\\\\n",
       "\\midrule\n",
       "Cheryl Spector            &         184.0 &     36.507937 \\\\\n",
       "Michael Neubauer          &         182.0 &     36.111111 \\\\\n",
       "Theresa White             &         173.0 &     34.325397 \\\\\n",
       "Carrie Saetermoe          &         167.0 &     33.134921 \\\\\n",
       "Stevie Ruiz               &         134.0 &     26.587302 \\\\\n",
       "Boris Ricks               &         127.0 &     25.198413 \\\\\n",
       "Holli Tonyan              &         124.0 &     24.603175 \\\\\n",
       "William Garrow            &         120.0 &     23.809524 \\\\\n",
       "Kim Henige                &         117.0 &     23.214286 \\\\\n",
       "Susan Fitzpatrick-Behrens &         112.0 &     22.222222 \\\\\n",
       "Jeff Wiegley              &         106.0 &     21.031746 \\\\\n",
       "Jose Paez                 &          86.0 &     17.063492 \\\\\n",
       "John Valdovinos           &          86.0 &     17.063492 \\\\\n",
       "Michael Johnson Jr.       &          84.0 &     16.666667 \\\\\n",
       "Jeanine Minge             &          84.0 &     16.666667 \\\\\n",
       "Ruting Jia                &          80.0 &     15.873016 \\\\\n",
       "Kathleen Young            &          76.0 &     15.079365 \\\\\n",
       "Linda Alvarez             &          74.0 &     14.682540 \\\\\n",
       "Dena Herman               &          74.0 &     14.682540 \\\\\n",
       "Anwar Alroomi             &          70.0 &     13.888889 \\\\\n",
       "Annette Besnilian         &          66.0 &     13.095238 \\\\\n",
       "Daniel Olmos              &          64.0 &     12.698413 \\\\\n",
       "Nelida Duran              &          60.0 &     11.904762 \\\\\n",
       "Sarah Berzinski           &          53.0 &     10.515873 \\\\\n",
       "Paulo Marchetti           &          50.0 &      9.920635 \\\\\n",
       "Unknown                   &           3.0 &      0.595238 \\\\\n",
       "Jeff Wigley               &           2.0 &      0.396825 \\\\\n",
       "Victor Shaw               &           1.0 &      0.198413 \\\\\n",
       "Suzanne Scheld            &           1.0 &      0.198413 \\\\\n",
       "Matthew Jackson           &           1.0 &      0.198413 \\\\\n",
       "Santosh Khadka            &           1.0 &      0.198413 \\\\\n",
       "Renee Moreno              &           1.0 &      0.198413 \\\\\n",
       "Joseph Wiltberger         &           1.0 &      0.198413 \\\\\n",
       "\\bottomrule\n",
       "\\end{tabular}\n",
       "\n",
       "        \\end{figure}"
      ],
      "text/plain": [
       "<IPython.core.display.Latex object>"
      ]
     },
     "metadata": {},
     "output_type": "display_data"
    }
   ],
   "source": [
    "PH.show_results_tables(general_results)"
   ]
  },
  {
   "cell_type": "markdown",
   "metadata": {},
   "source": [
    "## Visualized\n",
    "\n",
    "Here's the results data in chart form (sorry, it was too much of a pain to integrate these with the tables)\n",
    "\n",
    "Again, the plots in the column on the right are unnecessary for senators-at-large and standing committees."
   ]
  },
  {
   "cell_type": "code",
   "execution_count": 9,
   "metadata": {
    "ExecuteTime": {
     "end_time": "2019-03-17T17:54:51.333759Z",
     "start_time": "2019-03-17T17:54:48.575927Z"
    }
   },
   "outputs": [
    {
     "data": {
      "image/png": "[encoded data removed]",
      "text/plain": [
       "<Figure size 1080x1800 with 8 Axes>"
      ]
     },
     "metadata": {
      "needs_background": "light"
     },
     "output_type": "display_data"
    }
   ],
   "source": [
    "PH.plot_results(general_results, (15, 25))"
   ]
  },
  {
   "cell_type": "markdown",
   "metadata": {},
   "source": [
    "# Standing committees"
   ]
  },
  {
   "cell_type": "markdown",
   "metadata": {},
   "source": [
    "## Vote counts and percentage of total valid votes\n",
    "\n",
    "I've included the percentage of valid votes for all other offices in case it is of interest. For standing committees, there's no requirement that anyone receive any particular percentage."
   ]
  },
  {
   "cell_type": "code",
   "execution_count": 10,
   "metadata": {
    "ExecuteTime": {
     "end_time": "2019-03-17T17:55:09.193578Z",
     "start_time": "2019-03-17T17:55:09.064066Z"
    }
   },
   "outputs": [
    {
     "data": {
      "text/latex": [
       "\\begin{figure}\n",
       "        \\caption{ATC}\n",
       "        \\begin{tabular}{lrr}\n",
       "\\toprule\n",
       "{} &  number\\_votes &  pct\\_of\\_valid \\\\\n",
       "\\midrule\n",
       "Mauro Carassai        &          15.0 &     27.272727 \\\\\n",
       "Danielle Jarvis       &          13.0 &     23.636364 \\\\\n",
       "Debi Prasad Choudhary &          12.0 &     21.818182 \\\\\n",
       "Mariano Loza-Coll     &          11.0 &     20.000000 \\\\\n",
       "Philip Calvert        &           4.0 &      7.272727 \\\\\n",
       "\\bottomrule\n",
       "\\end{tabular}\n",
       "\n",
       "        \\end{figure}"
      ],
      "text/plain": [
       "<IPython.core.display.Latex object>"
      ]
     },
     "metadata": {},
     "output_type": "display_data"
    },
    {
     "data": {
      "text/latex": [
       "\\begin{figure}\n",
       "        \\caption{EEC}\n",
       "        \\begin{tabular}{lrr}\n",
       "\\toprule\n",
       "{} &  number\\_votes &  pct\\_of\\_valid \\\\\n",
       "\\midrule\n",
       "John Valdovinos         &          21.0 &     36.206897 \\\\\n",
       "Martha Escobar          &          19.0 &     32.758621 \\\\\n",
       "Xochitl Flores-Marcial  &          18.0 &     31.034483 \\\\\n",
       "Linda Alvarez           &          17.0 &     29.310345 \\\\\n",
       "Wladimir Lyra           &          16.0 &     27.586207 \\\\\n",
       "Susan Cohen             &          16.0 &     27.586207 \\\\\n",
       "Teri Todd               &          15.0 &     25.862069 \\\\\n",
       "Carmen Saunders-Russell &          15.0 &     25.862069 \\\\\n",
       "Gina Masequesmay        &          14.0 &     24.137931 \\\\\n",
       "Dylan Brandon Altman    &           9.0 &     15.517241 \\\\\n",
       "\\bottomrule\n",
       "\\end{tabular}\n",
       "\n",
       "        \\end{figure}"
      ],
      "text/plain": [
       "<IPython.core.display.Latex object>"
      ]
     },
     "metadata": {},
     "output_type": "display_data"
    },
    {
     "data": {
      "text/latex": [
       "\\begin{figure}\n",
       "        \\caption{EPC}\n",
       "        \\begin{tabular}{lrr}\n",
       "\\toprule\n",
       "{} &  number\\_votes &  pct\\_of\\_valid \\\\\n",
       "\\midrule\n",
       "Lawrence Becker            &          22.0 &     40.000000 \\\\\n",
       "Yoko Mimura                &          18.0 &     32.727273 \\\\\n",
       "Samira Moughrabi           &          16.0 &     29.090909 \\\\\n",
       "Tadeh Zirakian             &          15.0 &     27.272727 \\\\\n",
       "Dan Weingarten             &          11.0 &     20.000000 \\\\\n",
       "Lorenz Gamma               &          10.0 &     18.181818 \\\\\n",
       "Rodica Kohn                &           7.0 &     12.727273 \\\\\n",
       "Konstantinos  Vrongistinos &           5.0 &      9.090909 \\\\\n",
       "\\bottomrule\n",
       "\\end{tabular}\n",
       "\n",
       "        \\end{figure}"
      ],
      "text/plain": [
       "<IPython.core.display.Latex object>"
      ]
     },
     "metadata": {},
     "output_type": "display_data"
    },
    {
     "data": {
      "text/latex": [
       "\\begin{figure}\n",
       "        \\caption{ERC}\n",
       "        \\begin{tabular}{lrr}\n",
       "\\toprule\n",
       "{} &  number\\_votes &  pct\\_of\\_valid \\\\\n",
       "\\midrule\n",
       "Greg Knotts                &          34.0 &     57.627119 \\\\\n",
       "Katherine Stevenson        &          28.0 &     47.457627 \\\\\n",
       "Carrie Saetermoe           &          27.0 &     45.762712 \\\\\n",
       "Amalie Orme                &          15.0 &     25.423729 \\\\\n",
       "Konstantinos  Vrongistinos &           9.0 &     15.254237 \\\\\n",
       "Konstantinos Vrongistinos  &           1.0 &      1.694915 \\\\\n",
       "\\bottomrule\n",
       "\\end{tabular}\n",
       "\n",
       "        \\end{figure}"
      ],
      "text/plain": [
       "<IPython.core.display.Latex object>"
      ]
     },
     "metadata": {},
     "output_type": "display_data"
    },
    {
     "data": {
      "text/latex": [
       "\\begin{figure}\n",
       "        \\caption{Grad Studies}\n",
       "        \\begin{tabular}{lrr}\n",
       "\\toprule\n",
       "{} &  number\\_votes &  pct\\_of\\_valid \\\\\n",
       "\\midrule\n",
       "Shereazad Jimmy Gandhi &          27.0 &     49.090909 \\\\\n",
       "Joanne Busillo-Aguayo  &          21.0 &     38.181818 \\\\\n",
       "Allen Lipscomb         &          19.0 &     34.545455 \\\\\n",
       "Marquita Gammage       &          18.0 &     32.727273 \\\\\n",
       "Samantha Fields        &          16.0 &     29.090909 \\\\\n",
       "Keiko Hirata           &          15.0 &     27.272727 \\\\\n",
       "Monica Garcia          &          14.0 &     25.454545 \\\\\n",
       "Rosa M. Angulo-Barroso &          11.0 &     20.000000 \\\\\n",
       "Manghar Hussein        &           8.0 &     14.545455 \\\\\n",
       "Grishma Bhavsar        &           1.0 &      1.818182 \\\\\n",
       "\\bottomrule\n",
       "\\end{tabular}\n",
       "\n",
       "        \\end{figure}"
      ],
      "text/plain": [
       "<IPython.core.display.Latex object>"
      ]
     },
     "metadata": {},
     "output_type": "display_data"
    },
    {
     "data": {
      "text/latex": [
       "\\begin{figure}\n",
       "        \\caption{Library }\n",
       "        \\begin{tabular}{lrr}\n",
       "\\toprule\n",
       "{} &  number\\_votes &  pct\\_of\\_valid \\\\\n",
       "\\midrule\n",
       "Meiqin Wang           &          14.0 &     26.415094 \\\\\n",
       "Annette Besnilian     &          12.0 &     22.641509 \\\\\n",
       "Rosalia Garcia-Torres &           8.0 &     15.094340 \\\\\n",
       "Katya Mkrtchyan       &           7.0 &     13.207547 \\\\\n",
       "John J. Garcia        &           7.0 &     13.207547 \\\\\n",
       "Michael Doron         &           5.0 &      9.433962 \\\\\n",
       "\\bottomrule\n",
       "\\end{tabular}\n",
       "\n",
       "        \\end{figure}"
      ],
      "text/plain": [
       "<IPython.core.display.Latex object>"
      ]
     },
     "metadata": {},
     "output_type": "display_data"
    },
    {
     "data": {
      "text/latex": [
       "\\begin{figure}\n",
       "        \\caption{LRAC}\n",
       "        \\begin{tabular}{lrr}\n",
       "\\toprule\n",
       "{} &  number\\_votes &  pct\\_of\\_valid \\\\\n",
       "\\midrule\n",
       "Gina Masequesmay   &          14.0 &     26.923077 \\\\\n",
       "Karen D. Carpenter &          13.0 &     25.000000 \\\\\n",
       "Tadeh Zirakian     &          13.0 &     25.000000 \\\\\n",
       "Lynette Henderson  &           7.0 &     13.461538 \\\\\n",
       "Amalie Orme        &           5.0 &      9.615385 \\\\\n",
       "\\bottomrule\n",
       "\\end{tabular}\n",
       "\n",
       "        \\end{figure}"
      ],
      "text/plain": [
       "<IPython.core.display.Latex object>"
      ]
     },
     "metadata": {},
     "output_type": "display_data"
    }
   ],
   "source": [
    "PH.show_results_tables(sc_results)"
   ]
  },
  {
   "cell_type": "markdown",
   "metadata": {},
   "source": [
    "## Visualized"
   ]
  },
  {
   "cell_type": "code",
   "execution_count": 11,
   "metadata": {
    "ExecuteTime": {
     "end_time": "2019-03-17T17:55:16.124836Z",
     "start_time": "2019-03-17T17:55:12.543623Z"
    }
   },
   "outputs": [
    {
     "data": {
      "image/png": "[encoded data removed]",
      "text/plain": [
       "<Figure size 1080x1800 with 14 Axes>"
      ]
     },
     "metadata": {
      "needs_background": "light"
     },
     "output_type": "display_data"
    }
   ],
   "source": [
    "PH.plot_results(sc_results, (15, 25))"
   ]
  },
  {
   "cell_type": "markdown",
   "metadata": {},
   "source": [
    "For the ERC election, note that Dino's name had 2 spaces in between his first and last name on the ballot. The folks who chose to write his name in rather than selecting it added 1 space, thus my program didn't combine them.\n"
   ]
  },
  {
   "cell_type": "markdown",
   "metadata": {},
   "source": [
    "\n"
   ]
  },
  {
   "cell_type": "markdown",
   "metadata": {},
   "source": [
    "# Abstentions\n",
    "\n",
    "For completeness, it's worth looking briefly at abstentions. Those on the Senate know my militant view on abstentions. Holes are privations of dirt. Abstentions are privations of votes.^. \n",
    "\n",
    "This fits with the Robert's Rules treatment of abstentions, which governs our elections: only ballots which indicate a preference count toward vote totals. Writing in 'Anyone but these yahoos' expresses a preference. A blank ballot expresses the absence of a preference. Therefore, abstentions do not count in the denominator for offices which require the winner to obtain a majority.\n",
    "\n",
    "There's not much to be learned from the amount of abstentions ---we cannot infer that voters hated all the candidates since it could've been that they loved them all equally.^^ But, for completeness, here they are: \n",
    "\n",
    "\n",
    "^ Technically, they exist but do not subsist\n",
    "\n",
    "^^ For arguments that it isn't always rational to flip a coin in these cases, see (my former teacher) Ruth Chang's work on incommensurable values"
   ]
  },
  {
   "cell_type": "code",
   "execution_count": 12,
   "metadata": {
    "ExecuteTime": {
     "end_time": "2019-03-17T17:55:21.080102Z",
     "start_time": "2019-03-17T17:55:21.077591Z"
    },
    "deletable": false,
    "editable": false,
    "run_control": {
     "frozen": true
    }
   },
   "outputs": [],
   "source": [
    "from counter.PresentationHelpers import plot_abstentions, show_abstentions_tables"
   ]
  },
  {
   "cell_type": "markdown",
   "metadata": {},
   "source": [
    "## General election abstentions"
   ]
  },
  {
   "cell_type": "code",
   "execution_count": 13,
   "metadata": {
    "ExecuteTime": {
     "end_time": "2019-03-17T17:55:24.074972Z",
     "start_time": "2019-03-17T17:55:24.061531Z"
    }
   },
   "outputs": [
    {
     "data": {
      "text/latex": [
       "\\begin{tabular}{lrrrr}\n",
       "\\toprule\n",
       "{} &  Secretary &  Senator-at-Large &  Statewide Senator &  Vice-President \\\\\n",
       "\\midrule\n",
       "0 &        NaN &               NaN &                NaN &            67.0 \\\\\n",
       "1 &       93.0 &               NaN &                NaN &             NaN \\\\\n",
       "2 &        NaN &               NaN &               60.0 &             NaN \\\\\n",
       "3 &        NaN &              46.0 &                NaN &             NaN \\\\\n",
       "\\bottomrule\n",
       "\\end{tabular}\n"
      ],
      "text/plain": [
       "<IPython.core.display.Latex object>"
      ]
     },
     "metadata": {},
     "output_type": "display_data"
    }
   ],
   "source": [
    "PH.show_abstentions_tables(general_results)"
   ]
  },
  {
   "cell_type": "code",
   "execution_count": 14,
   "metadata": {
    "ExecuteTime": {
     "end_time": "2019-03-17T17:55:24.957405Z",
     "start_time": "2019-03-17T17:55:24.702289Z"
    }
   },
   "outputs": [
    {
     "data": {
      "image/png": "[encoded data removed]",
      "text/plain": [
       "<Figure size 576x360 with 1 Axes>"
      ]
     },
     "metadata": {
      "needs_background": "light"
     },
     "output_type": "display_data"
    }
   ],
   "source": [
    "PH.plot_abstentions(general_results)"
   ]
  },
  {
   "cell_type": "markdown",
   "metadata": {},
   "source": [
    "## Standing committee abstentions"
   ]
  },
  {
   "cell_type": "code",
   "execution_count": 15,
   "metadata": {
    "ExecuteTime": {
     "end_time": "2019-03-17T17:55:27.788581Z",
     "start_time": "2019-03-17T17:55:27.772684Z"
    }
   },
   "outputs": [
    {
     "data": {
      "text/latex": [
       "\\begin{tabular}{lrrrrrrr}\n",
       "\\toprule\n",
       "{} &  ATC &  EEC &  EPC &  ERC &  Grad Studies &  LRAC &  Library  \\\\\n",
       "\\midrule\n",
       "0 &  9.0 &  NaN &  NaN &  NaN &           NaN &   NaN &       NaN \\\\\n",
       "1 &  NaN &  6.0 &  NaN &  NaN &           NaN &   NaN &       NaN \\\\\n",
       "2 &  NaN &  NaN &  9.0 &  NaN &           NaN &   NaN &       NaN \\\\\n",
       "3 &  NaN &  NaN &  NaN &  5.0 &           NaN &   NaN &       NaN \\\\\n",
       "4 &  NaN &  NaN &  NaN &  NaN &           9.0 &   NaN &       NaN \\\\\n",
       "5 &  NaN &  NaN &  NaN &  NaN &           NaN &   NaN &      11.0 \\\\\n",
       "6 &  NaN &  NaN &  NaN &  NaN &           NaN &  12.0 &       NaN \\\\\n",
       "\\bottomrule\n",
       "\\end{tabular}\n"
      ],
      "text/plain": [
       "<IPython.core.display.Latex object>"
      ]
     },
     "metadata": {},
     "output_type": "display_data"
    }
   ],
   "source": [
    "PH.show_abstentions_tables(sc_results)"
   ]
  },
  {
   "cell_type": "code",
   "execution_count": 16,
   "metadata": {
    "ExecuteTime": {
     "end_time": "2019-03-17T17:55:28.431206Z",
     "start_time": "2019-03-17T17:55:28.083777Z"
    }
   },
   "outputs": [
    {
     "data": {
      "image/png": "[encoded data removed]",
      "text/plain": [
       "<Figure size 576x360 with 1 Axes>"
      ]
     },
     "metadata": {
      "needs_background": "light"
     },
     "output_type": "display_data"
    }
   ],
   "source": [
    "PH.plot_abstentions(sc_results)"
   ]
  },
  {
   "cell_type": "markdown",
   "metadata": {
    "ExecuteTime": {
     "end_time": "2019-03-16T18:09:47.165583Z",
     "start_time": "2019-03-16T18:09:47.163226Z"
    }
   },
   "source": [
    "# General properties of the election(s)\n",
    "\n",
    "Note that this year's election was several days shorter than previous elections."
   ]
  },
  {
   "cell_type": "markdown",
   "metadata": {},
   "source": [
    "## General election"
   ]
  },
  {
   "cell_type": "code",
   "execution_count": 17,
   "metadata": {
    "ExecuteTime": {
     "end_time": "2019-03-17T17:55:42.188578Z",
     "start_time": "2019-03-17T17:55:42.186176Z"
    },
    "deletable": false,
    "editable": false,
    "run_control": {
     "frozen": true
    }
   },
   "outputs": [],
   "source": [
    "from counter.PresentationHelpers import compute_cast, show_cast_table, plot_cast, show_table"
   ]
  },
  {
   "cell_type": "code",
   "execution_count": 31,
   "metadata": {
    "ExecuteTime": {
     "end_time": "2019-03-17T17:56:19.700059Z",
     "start_time": "2019-03-17T17:56:19.696296Z"
    },
    "deletable": false,
    "editable": false,
    "run_control": {
     "frozen": true
    }
   },
   "outputs": [],
   "source": [
    "from counter.PresentationHelpers import compute_daily_marginal, show_daily_marginal_table, plot_daily_marginal"
   ]
  },
  {
   "cell_type": "code",
   "execution_count": null,
   "metadata": {
    "deletable": false,
    "editable": false,
    "run_control": {
     "frozen": true
    }
   },
   "outputs": [],
   "source": [
    "from counter.PresentationHelpers import load_eligibility, load_past_returns, update_returns, calc_proport_of_eligible, compute_daily_cumulative"
   ]
  },
  {
   "cell_type": "code",
   "execution_count": null,
   "metadata": {
    "ExecuteTime": {
     "end_time": "2019-03-17T02:30:51.853607Z",
     "start_time": "2019-03-17T02:30:51.849952Z"
    },
    "deletable": false,
    "editable": false,
    "run_control": {
     "frozen": true
    }
   },
   "outputs": [],
   "source": [
    "def compute_cast(results):\n",
    "    cast = []\n",
    "    for r in results:\n",
    "        cast.append({r.officeName : r.cast_votes})\n",
    "    return pd.DataFrame(cast)\n",
    "    \n",
    "def show_cast_table(results):\n",
    "    cast = compute_cast(results)\n",
    "    display(Latex(cast.to_latex()))"
   ]
  },
  {
   "cell_type": "code",
   "execution_count": null,
   "metadata": {
    "ExecuteTime": {
     "end_time": "2019-03-17T02:30:52.786659Z",
     "start_time": "2019-03-17T02:30:52.782843Z"
    },
    "deletable": false,
    "editable": false,
    "run_control": {
     "frozen": true
    }
   },
   "outputs": [],
   "source": [
    "def plot_cast(results):\n",
    "    cast = compute_cast(results)\n",
    "    fig, axes = plt.subplots(figsize=(8,5))\n",
    "    cast.T.plot(kind='barh', title='Total votes cast', ax=axes)\n",
    "    axes.get_legend().remove()\n",
    "    axes.set_xlabel(\"Count\")\n",
    "    fig.tight_layout()"
   ]
  },
  {
   "cell_type": "code",
   "execution_count": 22,
   "metadata": {
    "ExecuteTime": {
     "end_time": "2019-03-17T17:55:57.598849Z",
     "start_time": "2019-03-17T17:55:57.589442Z"
    },
    "deletable": false,
    "editable": false,
    "run_control": {
     "frozen": true
    }
   },
   "outputs": [],
   "source": [
    "\n",
    "\n",
    "def load_eligibility(filepath=env.ELIGIBILITY_FILE_PATH):\n",
    "    eligible = pd.read_excel(filepath)\n",
    "    eligible.set_index('year', inplace=True)\n",
    "    return eligible\n",
    "\n",
    "def load_past_returns(election_type, filepath=env.PAST_RETURNS_FILE_PATH):\n",
    "    \"\"\"Imports returns from the relevant sheet\n",
    "    election_type should be either 'senate' or 'general'\n",
    "    \"\"\"\n",
    "    sheet = \"Data-{}\".format(election_type.lower())\n",
    "#     sheet = 'Data-senate' if election_type == 'senate' else 'Data-general'\n",
    "    pastData = pd.read_excel(filepath, sheet_name=sheet)\n",
    "    pastData.set_index('Year', inplace=True)\n",
    "    return pastData\n",
    "\n",
    "def update_returns(frame_w_timestamp_index, election_type, year, save=False, filepath=env.PAST_RETURNS_FILE_PATH):\n",
    "    \"\"\"Adds the daily cumulative sum of vote counts for the presesnt year to the\n",
    "    data for past years\"\"\"\n",
    "    past = load_past_returns(election_type)\n",
    "    # Calcluate marginal votes for present year and add\n",
    "    i = 0\n",
    "    for v in frame_w_timestamp_index.resample('D')['ResponseId'].count().cumsum():\n",
    "        past.loc[year, past.columns[i]] = v\n",
    "        i += 1\n",
    "    if save:\n",
    "        sheet = \"Data-{}\".format(election_type.lower())\n",
    "        past.to_excel(filepath, sheet_name=sheet)\n",
    "    return past\n",
    "\n",
    "\n",
    "def compute_daily_cumulative(data):\n",
    "    \"\"\"Returns the cumulative sum of votes cast on\n",
    "    each day of the election.\n",
    "    This requires the original data frame containing\n",
    "    the imported results. It is not run off of the list\n",
    "    of processed results objects\"\"\"\n",
    "    d = data.copy(deep=True)\n",
    "    d.set_index('RecordedDate', inplace=True) \n",
    "    return d.resample('D')['ResponseId'].count().cumsum()\n",
    "\n",
    "\n",
    "\n",
    "def calc_proport_of_eligible(frame, year, total):\n",
    "    numEligible = frame.loc[year]\n",
    "    return total / numEligible"
   ]
  },
  {
   "cell_type": "code",
   "execution_count": 23,
   "metadata": {
    "ExecuteTime": {
     "end_time": "2019-03-17T17:55:59.461264Z",
     "start_time": "2019-03-17T17:55:59.357629Z"
    }
   },
   "outputs": [],
   "source": [
    "# calculate returns for general\n",
    "general_returns = PH.load_past_returns('general')\n",
    "gd = general_data.set_index('RecordedDate')\n",
    "general_returns = PH.update_returns(gd, 'general', YEAR)\n",
    "general_returns.drop(columns=['Final', 'Eligible', '%Eligible'], inplace=True)\n",
    "general_returns.dropna(axis=1, how='all', inplace=True)\n",
    "\n",
    "# calculate returns for committees\n",
    "sc_returns = PH.load_past_returns('senate')\n",
    "sd = sc_data.set_index('RecordedDate')\n",
    "sc_returns = PH.update_returns(sd, 'senate', YEAR)\n",
    "sc_returns.drop(columns=['Final', 'Eligible', '%Eligible'], inplace=True)\n",
    "sc_returns.dropna(axis=1, how='all', inplace=True)\n",
    "\n",
    "# calculate the proportion of eligible voters for each day in the election\n",
    "eligible = PH.load_eligibility()\n",
    "sc_returns_proport = sc_returns.apply(lambda x : PH.calc_proport_of_eligible(eligible['standing_committees'], x.index, x))\n",
    "general_returns_proport = general_returns.apply(lambda x : PH.calc_proport_of_eligible(eligible['general'], x.index, x))"
   ]
  },
  {
   "cell_type": "code",
   "execution_count": null,
   "metadata": {},
   "outputs": [],
   "source": [
    "PH.plot_returns(general_returns, general_returns_proport, 'General')"
   ]
  },
  {
   "cell_type": "markdown",
   "metadata": {},
   "source": [
    "### Daily marginal votes cast"
   ]
  },
  {
   "cell_type": "code",
   "execution_count": null,
   "metadata": {},
   "outputs": [],
   "source": [
    "PH.show_daily_marginal_table(general_data)"
   ]
  },
  {
   "cell_type": "markdown",
   "metadata": {},
   "source": [
    "### Daily cumulative votes cast"
   ]
  },
  {
   "cell_type": "code",
   "execution_count": 43,
   "metadata": {
    "ExecuteTime": {
     "end_time": "2019-03-17T18:19:15.217511Z",
     "start_time": "2019-03-17T18:19:15.204597Z"
    }
   },
   "outputs": [
    {
     "data": {
      "text/latex": [
       "\\begin{tabular}{lrrrrrrrrrrrrrr}\n",
       "\\toprule\n",
       "{} &  Day 1 &  Day 2 &  Day 3 &  Day 4 &  Day 5 &  Day 6 &  Day 7 &  Day 8 &  Day 9 &  Day 10 &  Day 11 &  Day 12 &  Day 13 &  Day 14 \\\\\n",
       "Year &        &        &        &        &        &        &        &        &        &         &         &         &         &         \\\\\n",
       "\\midrule\n",
       "2012 &  101.0 &  143.0 &  178.0 &  204.0 &  209.0 &  213.0 &  213.0 &  219.0 &  221.0 &   244.0 &   279.0 &   279.0 &   286.0 &   290.0 \\\\\n",
       "2013 &  117.0 &  134.0 &  141.0 &  146.0 &  148.0 &  213.0 &  234.0 &  234.0 &  241.0 &   241.0 &   245.0 &   245.0 &   245.0 &   245.0 \\\\\n",
       "2014 &  101.0 &  154.0 &  162.0 &  248.0 &  278.0 &  292.0 &  295.0 &  296.0 &  328.0 &   339.0 &   378.0 &   378.0 &   378.0 &   378.0 \\\\\n",
       "2015 &  119.0 &  156.0 &  162.0 &  169.0 &  242.0 &  263.0 &  271.0 &  276.0 &  325.0 &   335.0 &   338.0 &   338.0 &   338.0 &   338.0 \\\\\n",
       "2016 &  208.0 &  282.0 &  298.0 &  308.0 &  393.0 &  403.0 &  444.0 &  458.0 &  462.0 &   488.0 &   498.0 &   498.0 &   498.0 &   498.0 \\\\\n",
       "2017 &  187.0 &  223.0 &  228.0 &  295.0 &  301.0 &  305.0 &  308.0 &  309.0 &  309.0 &   354.0 &   359.0 &   359.0 &   359.0 &   359.0 \\\\\n",
       "2018 &  159.0 &  223.0 &  274.0 &  305.0 &  347.0 &  359.0 &  397.0 &  440.0 &  477.0 &   499.0 &   542.0 &   542.0 &   542.0 &   542.0 \\\\\n",
       "2019 &  290.0 &  326.0 &  336.0 &  338.0 &  345.0 &  456.0 &  470.0 &  481.0 &  486.0 &   550.0 &     NaN &     NaN &     NaN &     NaN \\\\\n",
       "\\bottomrule\n",
       "\\end{tabular}\n"
      ],
      "text/plain": [
       "<IPython.core.display.Latex object>"
      ]
     },
     "metadata": {},
     "output_type": "display_data"
    }
   ],
   "source": [
    "PH.show_table(general_returns)"
   ]
  },
  {
   "cell_type": "markdown",
   "metadata": {},
   "source": [
    "### Daily cumulative proportion of total eligible voters"
   ]
  },
  {
   "cell_type": "code",
   "execution_count": 44,
   "metadata": {
    "ExecuteTime": {
     "end_time": "2019-03-17T18:19:21.766748Z",
     "start_time": "2019-03-17T18:19:21.756754Z"
    }
   },
   "outputs": [
    {
     "data": {
      "text/latex": [
       "\\begin{tabular}{lrrrrrrrrrrrrrr}\n",
       "\\toprule\n",
       "{} &     Day 1 &     Day 2 &     Day 3 &     Day 4 &     Day 5 &     Day 6 &     Day 7 &     Day 8 &     Day 9 &    Day 10 &    Day 11 &    Day 12 &    Day 13 &    Day 14 \\\\\n",
       "Year &           &           &           &           &           &           &           &           &           &           &           &           &           &           \\\\\n",
       "\\midrule\n",
       "2012 &  0.108369 &  0.153433 &  0.190987 &  0.218884 &  0.224249 &  0.228541 &  0.228541 &  0.234979 &  0.237124 &  0.261803 &  0.299356 &  0.299356 &  0.306867 &  0.311159 \\\\\n",
       "2013 &  0.122257 &  0.140021 &  0.147335 &  0.152560 &  0.154650 &  0.222571 &  0.244514 &  0.244514 &  0.251829 &  0.251829 &  0.256008 &  0.256008 &  0.256008 &  0.256008 \\\\\n",
       "2014 &  0.104990 &  0.160083 &  0.168399 &  0.257796 &  0.288981 &  0.303534 &  0.306653 &  0.307692 &  0.340956 &  0.352391 &  0.392931 &  0.392931 &  0.392931 &  0.392931 \\\\\n",
       "2015 &  0.122680 &  0.160825 &  0.167010 &  0.174227 &  0.249485 &  0.271134 &  0.279381 &  0.284536 &  0.335052 &  0.345361 &  0.348454 &  0.348454 &  0.348454 &  0.348454 \\\\\n",
       "2016 &  0.200772 &  0.272201 &  0.287645 &  0.297297 &  0.379344 &  0.388996 &  0.428571 &  0.442085 &  0.445946 &  0.471042 &  0.480695 &  0.480695 &  0.480695 &  0.480695 \\\\\n",
       "2017 &  0.184600 &  0.220138 &  0.225074 &  0.291214 &  0.297137 &  0.301086 &  0.304047 &  0.305035 &  0.305035 &  0.349457 &  0.354393 &  0.354393 &  0.354393 &  0.354393 \\\\\n",
       "2018 &  0.158367 &  0.222112 &  0.272908 &  0.303785 &  0.345618 &  0.357570 &  0.395418 &  0.438247 &  0.475100 &  0.497012 &  0.539841 &  0.539841 &  0.539841 &  0.539841 \\\\\n",
       "2019 &  0.290581 &  0.326653 &  0.336673 &  0.338677 &  0.345691 &  0.456914 &  0.470942 &  0.481964 &  0.486974 &  0.551102 &       NaN &       NaN &       NaN &       NaN \\\\\n",
       "\\bottomrule\n",
       "\\end{tabular}\n"
      ],
      "text/plain": [
       "<IPython.core.display.Latex object>"
      ]
     },
     "metadata": {},
     "output_type": "display_data"
    }
   ],
   "source": [
    "PH.show_table(general_returns_proport)"
   ]
  },
  {
   "cell_type": "code",
   "execution_count": null,
   "metadata": {},
   "outputs": [],
   "source": []
  },
  {
   "cell_type": "markdown",
   "metadata": {},
   "source": [
    "## Standing committees election"
   ]
  },
  {
   "cell_type": "code",
   "execution_count": 30,
   "metadata": {
    "ExecuteTime": {
     "end_time": "2019-03-17T17:56:15.269855Z",
     "start_time": "2019-03-17T17:56:14.467323Z"
    }
   },
   "outputs": [
    {
     "data": {
      "image/png": "[encoded data removed]",
      "text/plain": [
       "<Figure size 1440x576 with 2 Axes>"
      ]
     },
     "metadata": {
      "needs_background": "light"
     },
     "output_type": "display_data"
    }
   ],
   "source": [
    "PH.plot_returns(sc_returns, sc_returns_proport, 'Standing committee')"
   ]
  },
  {
   "cell_type": "markdown",
   "metadata": {},
   "source": [
    "### Daily marginal votes cast"
   ]
  },
  {
   "cell_type": "code",
   "execution_count": null,
   "metadata": {},
   "outputs": [],
   "source": [
    "PH.show_daily_marginal_table(sc_data)"
   ]
  },
  {
   "cell_type": "markdown",
   "metadata": {},
   "source": [
    "### Daily cumulative votes cast"
   ]
  },
  {
   "cell_type": "code",
   "execution_count": null,
   "metadata": {},
   "outputs": [],
   "source": [
    "PH.show_table(sc_returns)"
   ]
  },
  {
   "cell_type": "markdown",
   "metadata": {},
   "source": [
    "### Daily cumulative proportion of total eligible voters"
   ]
  },
  {
   "cell_type": "code",
   "execution_count": null,
   "metadata": {},
   "outputs": [],
   "source": [
    "PH.show_table(sc_returns_proport)"
   ]
  },
  {
   "cell_type": "code",
   "execution_count": null,
   "metadata": {},
   "outputs": [],
   "source": []
  },
  {
   "cell_type": "code",
   "execution_count": null,
   "metadata": {},
   "outputs": [],
   "source": []
  },
  {
   "cell_type": "code",
   "execution_count": null,
   "metadata": {},
   "outputs": [],
   "source": []
  },
  {
   "cell_type": "markdown",
   "metadata": {},
   "source": [
    "# Fin"
   ]
  },
  {
   "cell_type": "code",
   "execution_count": 39,
   "metadata": {
    "ExecuteTime": {
     "end_time": "2019-03-17T18:04:58.268669Z",
     "start_time": "2019-03-17T18:04:58.266547Z"
    }
   },
   "outputs": [],
   "source": [
    "# plot_cast(general_results)"
   ]
  },
  {
   "cell_type": "code",
   "execution_count": 36,
   "metadata": {
    "ExecuteTime": {
     "end_time": "2019-03-17T18:04:54.350551Z",
     "start_time": "2019-03-17T18:04:54.348139Z"
    }
   },
   "outputs": [],
   "source": [
    "# show_cast_table(sc_results)"
   ]
  },
  {
   "cell_type": "code",
   "execution_count": 37,
   "metadata": {
    "ExecuteTime": {
     "end_time": "2019-03-17T18:04:54.971906Z",
     "start_time": "2019-03-17T18:04:54.969352Z"
    }
   },
   "outputs": [],
   "source": [
    "# plot_cast(sc_results)"
   ]
  },
  {
   "cell_type": "markdown",
   "metadata": {},
   "source": [
    "## Proportion of eligible voters"
   ]
  },
  {
   "cell_type": "code",
   "execution_count": null,
   "metadata": {
    "ExecuteTime": {
     "end_time": "2019-03-17T17:26:03.416363Z",
     "start_time": "2019-03-17T17:26:03.384878Z"
    }
   },
   "outputs": [],
   "source": []
  },
  {
   "cell_type": "code",
   "execution_count": 24,
   "metadata": {
    "ExecuteTime": {
     "end_time": "2019-03-17T17:56:01.267941Z",
     "start_time": "2019-03-17T17:56:01.259206Z"
    }
   },
   "outputs": [
    {
     "data": {
      "text/latex": [
       "\\begin{tabular}{lrrrrrrrrrrr}\n",
       "\\toprule\n",
       "{} &  Day 1 &  Day 2 &  Day 3 &  Day 4 &  Day 5 &  Day 6 &  Day 7 &  Day 8 &  Day 9 &  Day 10 &  Day 11 \\\\\n",
       "Year &        &        &        &        &        &        &        &        &        &         &         \\\\\n",
       "\\midrule\n",
       "2015 &   17.0 &   21.0 &   23.0 &   24.0 &   35.0 &   36.0 &   36.0 &   38.0 &   40.0 &    41.0 &    41.0 \\\\\n",
       "2016 &   23.0 &   31.0 &   33.0 &   35.0 &   40.0 &   43.0 &   46.0 &   47.0 &   48.0 &    51.0 &    52.0 \\\\\n",
       "2017 &   20.0 &   25.0 &   26.0 &   35.0 &   35.0 &   37.0 &   37.0 &   37.0 &   37.0 &    43.0 &    45.0 \\\\\n",
       "2018 &   13.0 &   20.0 &   24.0 &   28.0 &   31.0 &   33.0 &   34.0 &   38.0 &   39.0 &    41.0 &    50.0 \\\\\n",
       "2019 &   41.0 &   46.0 &   48.0 &   49.0 &   52.0 &   59.0 &   60.0 &   61.0 &   61.0 &    64.0 &     NaN \\\\\n",
       "\\bottomrule\n",
       "\\end{tabular}\n"
      ],
      "text/plain": [
       "<IPython.core.display.Latex object>"
      ]
     },
     "metadata": {},
     "output_type": "display_data"
    }
   ],
   "source": [
    "show_table(sc_returns)"
   ]
  },
  {
   "cell_type": "markdown",
   "metadata": {},
   "source": [
    "### General election"
   ]
  },
  {
   "cell_type": "markdown",
   "metadata": {},
   "source": [
    "### Committee elections"
   ]
  },
  {
   "cell_type": "code",
   "execution_count": 42,
   "metadata": {
    "ExecuteTime": {
     "end_time": "2019-03-17T18:07:21.771493Z",
     "start_time": "2019-03-17T18:07:21.769406Z"
    }
   },
   "outputs": [],
   "source": [
    "# show_table(general_returns_proport)"
   ]
  },
  {
   "cell_type": "code",
   "execution_count": 41,
   "metadata": {
    "ExecuteTime": {
     "end_time": "2019-03-17T18:07:17.773153Z",
     "start_time": "2019-03-17T18:07:17.770706Z"
    }
   },
   "outputs": [],
   "source": [
    "# show_table(general_returns)"
   ]
  },
  {
   "cell_type": "code",
   "execution_count": 40,
   "metadata": {
    "ExecuteTime": {
     "end_time": "2019-03-17T18:07:14.505358Z",
     "start_time": "2019-03-17T18:07:14.503010Z"
    }
   },
   "outputs": [],
   "source": [
    "# plot_returns(general_returns, general_returns_proport, 'General')"
   ]
  },
  {
   "cell_type": "code",
   "execution_count": null,
   "metadata": {
    "ExecuteTime": {
     "end_time": "2019-03-17T17:34:59.297711Z",
     "start_time": "2019-03-17T17:34:58.964414Z"
    }
   },
   "outputs": [],
   "source": [
    "# plot_cumulative_votes(general_returns, 'General')"
   ]
  },
  {
   "cell_type": "code",
   "execution_count": null,
   "metadata": {},
   "outputs": [],
   "source": []
  },
  {
   "cell_type": "markdown",
   "metadata": {},
   "source": [
    "### Committee elections"
   ]
  },
  {
   "cell_type": "code",
   "execution_count": 29,
   "metadata": {
    "ExecuteTime": {
     "end_time": "2019-03-17T17:56:13.715648Z",
     "start_time": "2019-03-17T17:56:13.706721Z"
    }
   },
   "outputs": [
    {
     "data": {
      "text/latex": [
       "\\begin{tabular}{lrrrrrrrrrrr}\n",
       "\\toprule\n",
       "{} &     Day 1 &     Day 2 &     Day 3 &     Day 4 &     Day 5 &     Day 6 &     Day 7 &     Day 8 &     Day 9 &    Day 10 &    Day 11 \\\\\n",
       "Year &           &           &           &           &           &           &           &           &           &           &           \\\\\n",
       "\\midrule\n",
       "2015 &  0.242857 &  0.300000 &  0.328571 &  0.342857 &  0.500000 &  0.514286 &  0.514286 &  0.542857 &  0.571429 &  0.585714 &  0.585714 \\\\\n",
       "2016 &  0.333333 &  0.449275 &  0.478261 &  0.507246 &  0.579710 &  0.623188 &  0.666667 &  0.681159 &  0.695652 &  0.739130 &  0.753623 \\\\\n",
       "2017 &  0.289855 &  0.362319 &  0.376812 &  0.507246 &  0.507246 &  0.536232 &  0.536232 &  0.536232 &  0.536232 &  0.623188 &  0.652174 \\\\\n",
       "2018 &  0.183099 &  0.281690 &  0.338028 &  0.394366 &  0.436620 &  0.464789 &  0.478873 &  0.535211 &  0.549296 &  0.577465 &  0.704225 \\\\\n",
       "2019 &  0.561644 &  0.630137 &  0.657534 &  0.671233 &  0.712329 &  0.808219 &  0.821918 &  0.835616 &  0.835616 &  0.876712 &       NaN \\\\\n",
       "\\bottomrule\n",
       "\\end{tabular}\n"
      ],
      "text/plain": [
       "<IPython.core.display.Latex object>"
      ]
     },
     "metadata": {},
     "output_type": "display_data"
    }
   ],
   "source": [
    "show_table(sc_returns_proport)"
   ]
  },
  {
   "cell_type": "code",
   "execution_count": null,
   "metadata": {
    "ExecuteTime": {
     "end_time": "2019-03-16T21:52:11.374330Z",
     "start_time": "2019-03-16T21:52:11.094425Z"
    }
   },
   "outputs": [],
   "source": [
    "# d = data.set_index('RecordedDate')\n",
    "# returns = update_returns(d, 'senate', 2019, True)\n",
    "# returns.drop(columns=['Final', 'Eligible', '%Eligible'], inplace=True)\n",
    "# returns.dropna(axis=1, how='all', inplace=True)"
   ]
  },
  {
   "cell_type": "markdown",
   "metadata": {},
   "source": [
    "### Daily marginal votes cast"
   ]
  },
  {
   "cell_type": "code",
   "execution_count": null,
   "metadata": {
    "ExecuteTime": {
     "end_time": "2019-03-17T17:00:25.968855Z",
     "start_time": "2019-03-17T17:00:25.958958Z"
    },
    "deletable": false,
    "editable": false,
    "run_control": {
     "frozen": true
    }
   },
   "outputs": [],
   "source": [
    "def compute_daily_marginal(data):\n",
    "    \"\"\"This requires the original data frame containing\n",
    "    the imported results. It is not run off of the list\n",
    "    of processed results objects\"\"\"\n",
    "    d = data.copy(deep=True)\n",
    "    d.set_index('RecordedDate', inplace=True) \n",
    "    return d.resample('D')['ResponseId'].count()\n",
    "\n",
    "def show_daily_marginal_table(data):\n",
    "    m = compute_daily_marginal(data)\n",
    "    display(Latex(m.to_latex()))\n",
    "\n",
    "def plot_daily_marginal(data, figsize=(7,5)):\n",
    "    d = compute_daily_marginal(data)\n",
    "#     d= results.copy(deep=True)\n",
    "#     d.set_index('RecordedDate', inplace=True) \n",
    "    fig, axes = plt.subplots(figsize=figsize)\n",
    "    d.plot(kind='bar', ax=axes)\n",
    "    axes.set_ylabel('# votes'); axes.set_title(\"Daily marginal votes\"); axes.set_xlabel('Date')\n",
    "    # Adjust the formating of the dates in the x axis\n",
    "    xtl=[item.get_text()[:10] for item in axes.get_xticklabels()]\n",
    "    _=axes.set_xticklabels(xtl)\n",
    "    # rotate and align the tick labels so they look better\n",
    "    fig.autofmt_xdate()\n",
    "    fig.tight_layout()"
   ]
  },
  {
   "cell_type": "markdown",
   "metadata": {},
   "source": [
    "### General election"
   ]
  },
  {
   "cell_type": "code",
   "execution_count": 32,
   "metadata": {
    "ExecuteTime": {
     "end_time": "2019-03-17T17:56:23.300713Z",
     "start_time": "2019-03-17T17:56:23.292141Z"
    }
   },
   "outputs": [
    {
     "data": {
      "text/latex": [
       "\\begin{tabular}{lr}\n",
       "\\toprule\n",
       "{} &  ResponseId \\\\\n",
       "RecordedDate &             \\\\\n",
       "\\midrule\n",
       "2019-03-06   &         290 \\\\\n",
       "2019-03-07   &          36 \\\\\n",
       "2019-03-08   &          10 \\\\\n",
       "2019-03-09   &           2 \\\\\n",
       "2019-03-10   &           7 \\\\\n",
       "2019-03-11   &         111 \\\\\n",
       "2019-03-12   &          14 \\\\\n",
       "2019-03-13   &          11 \\\\\n",
       "2019-03-14   &           5 \\\\\n",
       "2019-03-15   &          64 \\\\\n",
       "\\bottomrule\n",
       "\\end{tabular}\n"
      ],
      "text/plain": [
       "<IPython.core.display.Latex object>"
      ]
     },
     "metadata": {},
     "output_type": "display_data"
    }
   ],
   "source": [
    "show_daily_marginal_table(general_data)"
   ]
  },
  {
   "cell_type": "code",
   "execution_count": 33,
   "metadata": {
    "ExecuteTime": {
     "end_time": "2019-03-17T17:56:23.926717Z",
     "start_time": "2019-03-17T17:56:23.657508Z"
    }
   },
   "outputs": [
    {
     "data": {
      "image/png": "[encoded data removed]",
      "text/plain": [
       "<Figure size 504x360 with 1 Axes>"
      ]
     },
     "metadata": {
      "needs_background": "light"
     },
     "output_type": "display_data"
    }
   ],
   "source": [
    "plot_daily_marginal(general_data)"
   ]
  },
  {
   "cell_type": "markdown",
   "metadata": {},
   "source": [
    "### Committee elections"
   ]
  },
  {
   "cell_type": "code",
   "execution_count": 34,
   "metadata": {
    "ExecuteTime": {
     "end_time": "2019-03-17T17:56:30.475121Z",
     "start_time": "2019-03-17T17:56:30.466870Z"
    }
   },
   "outputs": [
    {
     "data": {
      "text/latex": [
       "\\begin{tabular}{lr}\n",
       "\\toprule\n",
       "{} &  ResponseId \\\\\n",
       "RecordedDate &             \\\\\n",
       "\\midrule\n",
       "2019-03-06   &          41 \\\\\n",
       "2019-03-07   &           5 \\\\\n",
       "2019-03-08   &           2 \\\\\n",
       "2019-03-09   &           1 \\\\\n",
       "2019-03-10   &           3 \\\\\n",
       "2019-03-11   &           7 \\\\\n",
       "2019-03-12   &           1 \\\\\n",
       "2019-03-13   &           1 \\\\\n",
       "2019-03-14   &           0 \\\\\n",
       "2019-03-15   &           3 \\\\\n",
       "\\bottomrule\n",
       "\\end{tabular}\n"
      ],
      "text/plain": [
       "<IPython.core.display.Latex object>"
      ]
     },
     "metadata": {},
     "output_type": "display_data"
    }
   ],
   "source": [
    "show_daily_marginal_table(sc_data)"
   ]
  },
  {
   "cell_type": "code",
   "execution_count": 35,
   "metadata": {
    "ExecuteTime": {
     "end_time": "2019-03-17T17:56:31.328432Z",
     "start_time": "2019-03-17T17:56:31.049780Z"
    }
   },
   "outputs": [
    {
     "data": {
      "image/png": "[encoded data removed]",
      "text/plain": [
       "<Figure size 504x360 with 1 Axes>"
      ]
     },
     "metadata": {
      "needs_background": "light"
     },
     "output_type": "display_data"
    }
   ],
   "source": [
    "plot_daily_marginal(sc_data)"
   ]
  },
  {
   "cell_type": "code",
   "execution_count": null,
   "metadata": {},
   "outputs": [],
   "source": []
  },
  {
   "cell_type": "code",
   "execution_count": null,
   "metadata": {},
   "outputs": [],
   "source": []
  },
  {
   "cell_type": "code",
   "execution_count": null,
   "metadata": {
    "ExecuteTime": {
     "end_time": "2019-03-16T21:14:37.207807Z",
     "start_time": "2019-03-16T21:14:37.197562Z"
    }
   },
   "outputs": [],
   "source": [
    "i = 0\n",
    "for v in d.resample('D')['ResponseId'].count():\n",
    "    print(senateData.columns[i], v)\n",
    "    senateData.loc[2019][senateData.columns[i]] = v\n",
    "    i += 1"
   ]
  },
  {
   "cell_type": "code",
   "execution_count": null,
   "metadata": {
    "ExecuteTime": {
     "end_time": "2019-03-16T21:47:28.117551Z",
     "start_time": "2019-03-16T21:47:28.102817Z"
    }
   },
   "outputs": [],
   "source": []
  },
  {
   "cell_type": "code",
   "execution_count": null,
   "metadata": {
    "ExecuteTime": {
     "end_time": "2019-03-16T21:41:33.805600Z",
     "start_time": "2019-03-16T21:41:33.787352Z"
    }
   },
   "outputs": [],
   "source": []
  },
  {
   "cell_type": "code",
   "execution_count": null,
   "metadata": {
    "ExecuteTime": {
     "end_time": "2019-03-16T21:41:33.935685Z",
     "start_time": "2019-03-16T21:41:33.930466Z"
    }
   },
   "outputs": [],
   "source": []
  },
  {
   "cell_type": "code",
   "execution_count": null,
   "metadata": {
    "ExecuteTime": {
     "end_time": "2019-03-16T21:08:59.664669Z",
     "start_time": "2019-03-16T21:08:59.644649Z"
    }
   },
   "outputs": [],
   "source": []
  },
  {
   "cell_type": "code",
   "execution_count": null,
   "metadata": {
    "ExecuteTime": {
     "end_time": "2019-03-16T21:05:54.071218Z",
     "start_time": "2019-03-16T21:05:54.002850Z"
    }
   },
   "outputs": [],
   "source": [
    "generalData = pd.read_excel(env.PAST_RETURNS_FILE_PATH, sheet_name='Data-general')\n",
    "generalData.set_index('Year', inplace=True)\n",
    "generalEligible = generalData['Eligible']\n",
    "generalData.drop(columns=['Final', 'Eligible', '%Eligible'], inplace=True)\n",
    "generalData.dropna(axis=1, how='all', inplace=True)\n",
    "\n",
    "senateData = pd.read_excel(env.PAST_RETURNS_FILE_PATH, sheet_name='Data-senate')\n",
    "senateData.set_index('Year', inplace=True)\n",
    "senateEligible = senateData['Eligible']\n",
    "senateData.drop(columns=['Final', 'Eligible', '%Eligible'], inplace=True)\n",
    "senateData.dropna(axis=1, how='all', inplace=True)\n",
    "\n",
    "\n",
    "def calc_proport_of_eligible(frame, year, total):\n",
    "    numEligible = frame.loc[year]\n",
    "    return total / numEligible\n",
    "\n",
    "generalProport = generalData.apply(lambda x : calc_proport_of_eligible(generalEligible, x.index, x))\n",
    "senateProport =  senateData.apply(lambda x : calc_proport_of_eligible(senateEligible, x.index, x))"
   ]
  },
  {
   "cell_type": "code",
   "execution_count": null,
   "metadata": {},
   "outputs": [],
   "source": []
  },
  {
   "cell_type": "code",
   "execution_count": null,
   "metadata": {},
   "outputs": [],
   "source": []
  },
  {
   "cell_type": "code",
   "execution_count": null,
   "metadata": {},
   "outputs": [],
   "source": []
  },
  {
   "cell_type": "code",
   "execution_count": null,
   "metadata": {},
   "outputs": [],
   "source": []
  },
  {
   "cell_type": "markdown",
   "metadata": {},
   "source": [
    "# Problem cases\n",
    "\n",
    "2 candidates with same name\n",
    "    \n",
    "    Same dept\n",
    "    \n",
    "    Different dept\n",
    "    \n",
    "Write in candidate with no dept\n",
    "\n",
    "Write in candidate with dept in parentheses\n",
    "\n",
    "Write in candidate with dept, no parentheses\n",
    "\n",
    "Vote for 1 candidate, write in same candidate (up to num allowed -1)\n",
    "\n",
    "Write in multiple candidates in one field\n",
    "\n",
    "Write same candidate in multiple times"
   ]
  },
  {
   "cell_type": "code",
   "execution_count": null,
   "metadata": {},
   "outputs": [],
   "source": []
  },
  {
   "cell_type": "code",
   "execution_count": null,
   "metadata": {},
   "outputs": [],
   "source": []
  },
  {
   "cell_type": "code",
   "execution_count": null,
   "metadata": {},
   "outputs": [],
   "source": []
  },
  {
   "cell_type": "code",
   "execution_count": null,
   "metadata": {},
   "outputs": [],
   "source": []
  },
  {
   "cell_type": "markdown",
   "metadata": {},
   "source": [
    "# General election"
   ]
  },
  {
   "cell_type": "markdown",
   "metadata": {
    "ExecuteTime": {
     "end_time": "2018-03-15T17:19:18.363836Z",
     "start_time": "2018-03-15T17:19:18.361437Z"
    }
   },
   "source": [
    "## Total votes cast"
   ]
  },
  {
   "cell_type": "code",
   "execution_count": null,
   "metadata": {
    "ExecuteTime": {
     "end_time": "2018-03-22T00:40:46.621752Z",
     "start_time": "2018-03-22T00:40:46.590973Z"
    }
   },
   "outputs": [],
   "source": [
    "generalData"
   ]
  },
  {
   "cell_type": "code",
   "execution_count": null,
   "metadata": {
    "ExecuteTime": {
     "end_time": "2019-03-16T21:06:58.890713Z",
     "start_time": "2019-03-16T21:06:58.568471Z"
    }
   },
   "outputs": [],
   "source": [
    "fig, axes = plt.subplots(figsize=(8,4))\n",
    "generalData.T.plot(ax=axes)\n",
    "axes.set_title(\"General election -- total votes\")\n",
    "axes.set_ylabel(\"Total votes cast\"); axes.set_xlabel(\"Day in election period\")\n",
    "fig.tight_layout()"
   ]
  },
  {
   "cell_type": "markdown",
   "metadata": {},
   "source": [
    "## Proportion of eligible voters"
   ]
  },
  {
   "cell_type": "code",
   "execution_count": null,
   "metadata": {
    "ExecuteTime": {
     "end_time": "2018-03-22T00:40:47.298850Z",
     "start_time": "2018-03-22T00:40:46.954830Z"
    }
   },
   "outputs": [],
   "source": [
    "fig, axes = plt.subplots(figsize=(8,4))\n",
    "generalProport.T.plot(ax=axes)\n",
    "axes.set_title(\"General election returns -- proportion of eligible voters\")\n",
    "axes.set_ylabel(\"# eligible voters / total votes\"); axes.set_xlabel(\"Day in election period\")\n",
    "fig.tight_layout()"
   ]
  },
  {
   "cell_type": "markdown",
   "metadata": {},
   "source": [
    "## Daily marginal votes cast"
   ]
  },
  {
   "cell_type": "code",
   "execution_count": null,
   "metadata": {
    "ExecuteTime": {
     "end_time": "2018-03-22T00:40:47.333633Z",
     "start_time": "2018-03-22T00:40:47.300952Z"
    }
   },
   "outputs": [],
   "source": [
    "generalMarginal = generalData.T.sub(generalData.T.shift(1), axis='columns').T.drop('Day 1', axis=1)\n",
    "generalMarginal"
   ]
  },
  {
   "cell_type": "code",
   "execution_count": null,
   "metadata": {
    "ExecuteTime": {
     "end_time": "2018-03-22T00:40:47.700201Z",
     "start_time": "2018-03-22T00:40:47.335497Z"
    }
   },
   "outputs": [],
   "source": [
    "fig, axes = plt.subplots(figsize=(8,4))\n",
    "sns.boxplot(data=generalMarginal.dropna(axis=1), ax=axes)\n",
    "axes.set_title(\"General election - marginal votes by day\")\n",
    "axes.set_ylabel(\"# votes (%s-%s)\" % (generalMarginal.index.min(), generalMarginal.index.max()))\n",
    "fig.tight_layout()"
   ]
  },
  {
   "cell_type": "markdown",
   "metadata": {
    "ExecuteTime": {
     "end_time": "2018-03-15T17:18:00.719945Z",
     "start_time": "2018-03-15T17:18:00.717663Z"
    }
   },
   "source": [
    "# Senate-elected positions election "
   ]
  },
  {
   "cell_type": "markdown",
   "metadata": {},
   "source": [
    "## Total votes cast"
   ]
  },
  {
   "cell_type": "code",
   "execution_count": null,
   "metadata": {
    "ExecuteTime": {
     "end_time": "2018-03-22T00:40:47.719818Z",
     "start_time": "2018-03-22T00:40:47.702138Z"
    }
   },
   "outputs": [],
   "source": [
    "senateData"
   ]
  },
  {
   "cell_type": "code",
   "execution_count": null,
   "metadata": {
    "ExecuteTime": {
     "end_time": "2018-03-22T00:40:47.980363Z",
     "start_time": "2018-03-22T00:40:47.723049Z"
    }
   },
   "outputs": [],
   "source": [
    "fig, axes = plt.subplots(figsize=(8,4))\n",
    "senateData.T.plot(ax=axes)\n",
    "axes.set_title(\"Senate-elected positions election --- total votes\")\n",
    "fig.tight_layout()"
   ]
  },
  {
   "cell_type": "markdown",
   "metadata": {},
   "source": [
    "## Proportion of eligible voters"
   ]
  },
  {
   "cell_type": "code",
   "execution_count": null,
   "metadata": {
    "ExecuteTime": {
     "end_time": "2018-03-22T00:40:48.253552Z",
     "start_time": "2018-03-22T00:40:47.983316Z"
    }
   },
   "outputs": [],
   "source": [
    "fig, axes = plt.subplots(figsize=(8,4))\n",
    "senateProport.T.plot(ax=axes)\n",
    "axes.set_title(\"Senate election returns -- proportion of eligible senate voters\")\n",
    "axes.set_ylabel(\"# eligible voters / total votes\"); axes.set_xlabel(\"Day in election period\")\n",
    "fig.tight_layout()"
   ]
  },
  {
   "cell_type": "markdown",
   "metadata": {},
   "source": [
    "## Votes cast per day"
   ]
  },
  {
   "cell_type": "code",
   "execution_count": null,
   "metadata": {
    "ExecuteTime": {
     "end_time": "2018-03-22T00:40:48.281571Z",
     "start_time": "2018-03-22T00:40:48.255468Z"
    }
   },
   "outputs": [],
   "source": [
    "senateMarginal = senateData.T.sub(senateData.T.shift(1), axis='columns').T.drop('Day 1', axis=1)\n",
    "senateMarginal"
   ]
  },
  {
   "cell_type": "code",
   "execution_count": null,
   "metadata": {
    "ExecuteTime": {
     "end_time": "2018-03-22T00:40:48.634373Z",
     "start_time": "2018-03-22T00:40:48.284358Z"
    }
   },
   "outputs": [],
   "source": [
    "fig, axes = plt.subplots(figsize=(8,4))\n",
    "sns.boxplot(data=senateMarginal.dropna(axis=1), ax=axes)\n",
    "axes.set_title(\"Senate-elected positions -- marginal votes by day\")\n",
    "axes.set_ylabel(\"# votes (%s-%s)\" % (senateMarginal.index.min(), senateMarginal.index.max()))\n",
    "fig.tight_layout()"
   ]
  },
  {
   "cell_type": "code",
   "execution_count": null,
   "metadata": {},
   "outputs": [],
   "source": []
  },
  {
   "cell_type": "code",
   "execution_count": null,
   "metadata": {},
   "outputs": [],
   "source": []
  },
  {
   "cell_type": "code",
   "execution_count": null,
   "metadata": {},
   "outputs": [],
   "source": []
  },
  {
   "cell_type": "markdown",
   "metadata": {},
   "source": [
    "# Election design and machinery"
   ]
  },
  {
   "cell_type": "code",
   "execution_count": null,
   "metadata": {
    "ExecuteTime": {
     "end_time": "2018-03-25T20:03:26.704603Z",
     "start_time": "2018-03-25T20:03:26.699420Z"
    }
   },
   "outputs": [],
   "source": [
    "ELECTION_YEAR = 2018\n",
    "resultsFolder = \"%s/Box Sync/Faculty Senate Collaborative Documents/Elections/Results/\" % BASE\n",
    "currentElection = \"%s/%s Elections official results\" % (resultsFolder, ELECTION_YEAR)\n",
    "senateFolder = \"%s/senate official results\" % currentElection\n",
    "generalFolder = \"%s/general official results\" % currentElection"
   ]
  },
  {
   "cell_type": "code",
   "execution_count": null,
   "metadata": {
    "ExecuteTime": {
     "end_time": "2018-03-25T21:30:29.788344Z",
     "start_time": "2018-03-25T21:30:29.697952Z"
    }
   },
   "outputs": [],
   "source": [
    "resultFileString = \"Results.xlsx\"\n",
    "senateFiles = [f for f in makeDataFileList(senateFolder) if f[-12:] == resultFileString]\n",
    "generalFiles = [f for f in makeDataFileList(generalFolder) if f[-12:] == resultFileString]\n",
    "senateFrames = [pd.read_excel(f) for f in senateFiles]\n",
    "generalFrames = [pd.read_excel(f) for f in generalFiles]"
   ]
  },
  {
   "cell_type": "code",
   "execution_count": null,
   "metadata": {
    "ExecuteTime": {
     "end_time": "2018-03-25T21:30:56.795908Z",
     "start_time": "2018-03-25T21:30:56.706244Z"
    }
   },
   "outputs": [],
   "source": [
    "def number_of_abstentions(frame):\n",
    "    \"\"\"Returns the number of blank ballots minus the\n",
    "    number of write in votes\"\"\"\n",
    "    # get the name of the first column. \n",
    "    # this will be the committee's name\n",
    "    committeeName = frame.columns[0]\n",
    "    abstentions = frame[frame[committeeName] == 'abstentions']['votes']\n",
    "    abstentions = int(abstentions)\n",
    "    # now we need to subtract the writeins\n",
    "    # since any write-in will be  counted as an\n",
    "    # abstention\n",
    "    #\n",
    "    # !!!!!!!!!!!!! todo double-check in code\n",
    "    try:\n",
    "        wi = frame[frame[committeeName] == 'writeins-unverified']['votes']\n",
    "        wi = int(wi)        \n",
    "        abstentions = abstentions + wi\n",
    "    except:\n",
    "        pass\n",
    "    return (committeeName, abstentions)\n",
    "\n",
    "def number_of_illegal_overselections(frame):\n",
    "    # get the name of the first column. \n",
    "    # this will be the committee's name\n",
    "    committeeName = frame.columns[0]\n",
    "#     print(committeeName)\n",
    "    v = frame[frame[committeeName] == 'illegal-overselection']['votes']\n",
    "    v = int(v)\n",
    "    return (committeeName, v)\n",
    "\n",
    "def number_manually_disqualified(frame):\n",
    "    committeeName = frame.columns[0]\n",
    "#     print(committeeName)\n",
    "    # get rid of any of the programmatically added columns\n",
    "    v = frame.dropna()\n",
    "    # add up the disqualified votes\n",
    "    v = int(v.dq.sum())\n",
    "    return (committeeName, v)\n",
    "\n",
    "def number_illegal(frame):\n",
    "    committeeName = frame.columns[0]\n",
    "#     print(committeeName)\n",
    "    #programmaticOverselections: too many boxes ticked\n",
    "    po = number_of_illegal_overselections(frame)\n",
    "    #write ins which invalidated the vote\n",
    "    wi = number_manually_disqualified(frame)\n",
    "    num =  po[1] + wi[1]\n",
    "    return (committeeName, num)  "
   ]
  },
  {
   "cell_type": "code",
   "execution_count": null,
   "metadata": {
    "ExecuteTime": {
     "end_time": "2018-03-25T21:39:21.459059Z",
     "start_time": "2018-03-25T21:39:21.443644Z"
    }
   },
   "outputs": [],
   "source": [
    "def get_frame_for_plotting(func, columnName):\n",
    "    v =  [func(frame) for frame in senateFrames]\n",
    "    v =  v + [func(frame) for frame in generalFrames]\n",
    "    return DataFrame(v, columns=['election', columnName]).set_index('election')\n",
    "\n",
    "def plot_frame(frame, title, ylabel):\n",
    "    fig, axes = plt.subplots(figsize=(8,3))\n",
    "    frame.plot(kind='bar', table=True, ax=axes)\n",
    "    x_axis = axes.get_xaxis(); axes.set_ylabel(ylabel)\n",
    "    x_axis.set_visible(False); axes.set_title(title)\n",
    "    fig.tight_layout()"
   ]
  },
  {
   "cell_type": "code",
   "execution_count": null,
   "metadata": {
    "ExecuteTime": {
     "end_time": "2018-03-25T21:40:27.625236Z",
     "start_time": "2018-03-25T21:40:27.144706Z"
    }
   },
   "outputs": [],
   "source": [
    "overselections = get_frame_for_plotting(number_of_illegal_overselections, 'over-selections')\n",
    "plot_frame(overselections,  'Number ballots spoiled by too many candidates being selected', 'count')"
   ]
  },
  {
   "cell_type": "markdown",
   "metadata": {},
   "source": [
    "\n",
    "## Write-in boxes\n"
   ]
  },
  {
   "cell_type": "code",
   "execution_count": null,
   "metadata": {
    "ExecuteTime": {
     "end_time": "2018-03-25T21:41:18.098670Z",
     "start_time": "2018-03-25T21:41:17.588676Z"
    }
   },
   "outputs": [],
   "source": [
    "dq = get_frame_for_plotting(number_manually_disqualified, 'disqualified')\n",
    "plot_frame(dq,\"Number of ballots disqualified due to write-ins\", \"# of ballots disqualified\")"
   ]
  },
  {
   "cell_type": "markdown",
   "metadata": {},
   "source": [
    "### Abstentions \n"
   ]
  },
  {
   "cell_type": "code",
   "execution_count": null,
   "metadata": {
    "ExecuteTime": {
     "end_time": "2018-03-25T21:50:52.513878Z",
     "start_time": "2018-03-25T21:50:52.021734Z"
    }
   },
   "outputs": [],
   "source": [
    "abstentions = get_frame_for_plotting(number_of_abstentions, 'abstentions')\n",
    "plot_frame(abstentions, \"Number of blank ballots\", \"# of privations\")"
   ]
  },
  {
   "cell_type": "code",
   "execution_count": null,
   "metadata": {},
   "outputs": [],
   "source": []
  },
  {
   "cell_type": "code",
   "execution_count": null,
   "metadata": {},
   "outputs": [],
   "source": []
  },
  {
   "cell_type": "code",
   "execution_count": null,
   "metadata": {},
   "outputs": [],
   "source": []
  },
  {
   "cell_type": "code",
   "execution_count": null,
   "metadata": {},
   "outputs": [],
   "source": []
  },
  {
   "cell_type": "code",
   "execution_count": null,
   "metadata": {},
   "outputs": [],
   "source": []
  },
  {
   "cell_type": "code",
   "execution_count": null,
   "metadata": {},
   "outputs": [],
   "source": []
  },
  {
   "cell_type": "code",
   "execution_count": null,
   "metadata": {},
   "outputs": [],
   "source": []
  },
  {
   "cell_type": "code",
   "execution_count": null,
   "metadata": {},
   "outputs": [],
   "source": []
  },
  {
   "cell_type": "code",
   "execution_count": null,
   "metadata": {},
   "outputs": [],
   "source": []
  },
  {
   "cell_type": "markdown",
   "metadata": {},
   "source": [
    "# Questions:\n",
    "- How many votes were invalid because of the overselection (illegal-overselction + invalid) in each election?\n",
    "\n",
    "- How many abstentions were there"
   ]
  },
  {
   "cell_type": "code",
   "execution_count": null,
   "metadata": {
    "ExecuteTime": {
     "end_time": "2018-03-25T18:32:14.945568Z",
     "start_time": "2018-03-25T18:32:14.942824Z"
    }
   },
   "outputs": [],
   "source": [
    "SENATE_VOTES = 50 #todo refer to value calculated above, just need election year\n",
    "SENATE_ELLIGIBLE = 71 #todo refer to value calculated above, just need election year"
   ]
  },
  {
   "cell_type": "code",
   "execution_count": null,
   "metadata": {
    "ExecuteTime": {
     "end_time": "2018-03-25T19:13:05.725858Z",
     "start_time": "2018-03-25T19:13:05.702638Z"
    }
   },
   "outputs": [],
   "source": [
    "# calculate illegal votes\n",
    "illegalVotes = [number_illegal(frame) for frame in generalFrames]\n",
    "# illegalVotes = DataFrame(illegalVotes, columns=['Office', 'Illegal votes'])\n",
    "#abstentions"
   ]
  },
  {
   "cell_type": "code",
   "execution_count": null,
   "metadata": {
    "ExecuteTime": {
     "end_time": "2018-03-25T19:12:05.390979Z",
     "start_time": "2018-03-25T19:12:05.382652Z"
    }
   },
   "outputs": [],
   "source": [
    "generalAbstentions =  [number_of_abstentions(frame) for frame in generalFrames]\n",
    "generalAbstentions = DataFrame(generalAbstentions, columns=['Position', 'Abstentions'])\n"
   ]
  },
  {
   "cell_type": "code",
   "execution_count": null,
   "metadata": {
    "ExecuteTime": {
     "end_time": "2018-03-25T19:12:13.518844Z",
     "start_time": "2018-03-25T19:12:13.510445Z"
    }
   },
   "outputs": [],
   "source": [
    "abstentions"
   ]
  },
  {
   "cell_type": "code",
   "execution_count": null,
   "metadata": {},
   "outputs": [],
   "source": []
  },
  {
   "cell_type": "code",
   "execution_count": null,
   "metadata": {},
   "outputs": [],
   "source": []
  },
  {
   "cell_type": "code",
   "execution_count": null,
   "metadata": {},
   "outputs": [],
   "source": []
  },
  {
   "cell_type": "code",
   "execution_count": null,
   "metadata": {},
   "outputs": [],
   "source": []
  },
  {
   "cell_type": "code",
   "execution_count": null,
   "metadata": {
    "ExecuteTime": {
     "end_time": "2018-03-25T19:10:46.163583Z",
     "start_time": "2018-03-25T19:10:46.131656Z"
    }
   },
   "outputs": [],
   "source": [
    "# calculate illegal votes\n",
    "illegalVotes = [number_illegal(frame) for frame in senateFrames]\n",
    "illegalVotes = DataFrame(illegalVotes, columns=['election', 'Illegal votes'])\n",
    "# these are included in illegal\n",
    "overselections = [number_of_illegal_overselections(frame) for frame in senateFrames]\n",
    "overselections = DataFrame(overselections, columns=['election', 'Overselections'])\n",
    "\n",
    "data = pd.merge(left=abstentions, right=illegalVotes, on='election').set_index('election')"
   ]
  },
  {
   "cell_type": "code",
   "execution_count": null,
   "metadata": {
    "ExecuteTime": {
     "end_time": "2018-03-25T19:01:57.772372Z",
     "start_time": "2018-03-25T19:01:57.500540Z"
    }
   },
   "outputs": [],
   "source": [
    "fig, axes = plt.subplots(figsize=(8,4))\n",
    "data.plot(kind='bar', ax=axes)\n",
    "axes.set_title(\"Counts of abstentions and illegal votes for standing committee elections\")\n",
    "axes.set_ylabel(\"Count\")\n",
    "fig.tight_layout()"
   ]
  },
  {
   "cell_type": "code",
   "execution_count": null,
   "metadata": {
    "ExecuteTime": {
     "end_time": "2018-03-25T19:05:31.161520Z",
     "start_time": "2018-03-25T19:05:31.139514Z"
    }
   },
   "outputs": [],
   "source": [
    "pctEligible = data.copy(deep=True)\n",
    "pctVoters = data.copy(deep=True)\n",
    "pctVoters.drop(['Abstentions', 'Illegal votes'], axis=1, inplace=True)\n",
    "pctEligible.drop(['Abstentions', 'Illegal votes'], axis=1, inplace=True)\n",
    "\n",
    "\n",
    "pctEligible['abstentions'] = data.Abstentions.apply(lambda x : x / SENATE_ELLIGIBLE)\n",
    "pctEligible['illegal'] = data['Illegal votes'].apply(lambda x : x / SENATE_ELLIGIBLE)\n",
    "\n",
    "pctVoters['abstentions'] = data.Abstentions.apply(lambda x : x / SENATE_VOTES)\n",
    "pctVoters['illegal'] = data['Illegal votes'].apply(lambda x : x / SENATE_ELLIGIBLE)\n",
    "\n",
    "# pctEligible['abstentions'] = data.Abstentions.apply(lambda x : int((x / SENATE_ELLIGIBLE)* 100))\n",
    "# pctEligible['illegal'] = data['Illegal votes'].apply(lambda x : int((x / SENATE_ELLIGIBLE)* 100))\n",
    "\n",
    "# pctVoters['abstentions'] = data.Abstentions.apply(lambda x : int((x / SENATE_VOTES) * 100))\n",
    "# pctVoters['illegal'] = data['Illegal votes'].apply(lambda x : int((x / SENATE_ELLIGIBLE) * 100))"
   ]
  },
  {
   "cell_type": "code",
   "execution_count": null,
   "metadata": {
    "ExecuteTime": {
     "end_time": "2018-03-25T19:06:42.463923Z",
     "start_time": "2018-03-25T19:06:42.028142Z"
    }
   },
   "outputs": [],
   "source": [
    "fig, axes = plt.subplots(nrows=2)\n",
    "pctEligible.plot(kind='bar', ax=axes[0])\n",
    "axes[0].set_title(\"Abstentions and illegal votes as proportion of eligible voters\")\n",
    "axes[0].set_ylabel(\"count / # eligible \")\n",
    "pctVoters.plot(kind='bar', ax=axes[1])\n",
    "axes[1].set_ylabel(\"count / # case \")\n",
    "axes[1].set_title(\"Abstentions and illegal votes as proportion of votes cast\")\n",
    "fig.tight_layout()"
   ]
  }
 ],
 "metadata": {
  "kernelspec": {
   "display_name": "Python 3",
   "language": "python",
   "name": "python3"
  },
  "language_info": {
   "codemirror_mode": {
    "name": "ipython",
    "version": 3
   },
   "file_extension": ".py",
   "mimetype": "text/x-python",
   "name": "python",
   "nbconvert_exporter": "python",
   "pygments_lexer": "ipython3",
   "version": "3.6.4"
  },
  "toc": {
   "base_numbering": 1,
   "nav_menu": {
    "height": "12px",
    "width": "252px"
   },
   "number_sections": true,
   "sideBar": true,
   "skip_h1_title": false,
   "title_cell": "Table of Contents",
   "title_sidebar": "Contents",
   "toc_cell": false,
   "toc_position": {},
   "toc_section_display": "block",
   "toc_window_display": false
  }
 },
 "nbformat": 4,
 "nbformat_minor": 1
}
