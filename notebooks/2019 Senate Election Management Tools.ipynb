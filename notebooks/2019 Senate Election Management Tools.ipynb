{
 "cells": [
  {
   "cell_type": "markdown",
   "metadata": {},
   "source": [
    "# Quick primer on elections \n",
    "\n",
    "## Categories of vote\n",
    "\n",
    "**Abstention**: The ballot expresses no preference, i.e., it is blank.\n",
    "\n",
    "\n",
    "**Illegal**: The ballot expresses a preference which cannot be satisfied within the bounds of the election.\n",
    "        \n",
    "        In this election, this could involve:    \n",
    "        - The voter writing-in a name which they also selected.\n",
    "      \n",
    "        Back when we conducted the election via Canvas, we also had to worry about:\n",
    "        - The voter selecting more than the allowed number of candidates \n",
    "        - Selecting the maximum number and then writing in an additional candidate.\n",
    "\n",
    "**Cast** = abstentions + legal + illegal\n",
    "    \n",
    "    - Cast plays no role except for auditing \n",
    "\n",
    "**Valid** = legal + illegal\n",
    "    \n",
    "    - These determine the denominator when a position requires a majority (i.e., > 50%)\n",
    "    \n",
    "    - Note that abstentions do not count in the denominator\n",
    "\n"
   ]
  },
  {
   "cell_type": "markdown",
   "metadata": {},
   "source": [
    "__ TOOLS FOR MANAGING THE ELECTION. NOT FOR REPORTING. __\n",
    "\n",
    "2019!"
   ]
  },
  {
   "cell_type": "code",
   "execution_count": 12,
   "metadata": {
    "ExecuteTime": {
     "end_time": "2019-03-16T21:09:37.976344Z",
     "start_time": "2019-03-16T21:09:37.963111Z"
    },
    "cell_style": "center",
    "code_folding": []
   },
   "outputs": [
    {
     "name": "stdout",
     "output_type": "stream",
     "text": [
      "/Users/adam/Dropbox/csun-election-management\n"
     ]
    }
   ],
   "source": [
    "%cd ~/Dropbox/csun-election-management\n",
    "\n",
    "\n",
    "#Plotting \n",
    "%matplotlib inline\n",
    "from matplotlib import pyplot as plt\n",
    "# %config InlineBackend.figure_format = 'svg'\n",
    "import seaborn as sns\n",
    "sns.set(style=\"whitegrid\")\n",
    "\n",
    "#Base Classes stuff\n",
    "from FileSystemTools import *\n",
    "from UtilityDecorators import *\n",
    "from UtilityFunctions import *\n",
    "\n",
    "import pandas as pd\n",
    "from pandas import DataFrame, Series\n",
    "import numpy as np\n",
    "\n",
    "import counter.environment as env\n",
    "from counter.QualitricsHelpers import get_results_column_names, get_write_in_column_names\n",
    "from counter.QualitricsProcessors import process_results, save_results, process_field, process_voter, process_office_columns\n",
    "from counter.FileSystemTools import makeDataFileList\n",
    "# String processing of result cells\n",
    "from counter.StringProcessors import find_dept, remove_depts"
   ]
  },
  {
   "cell_type": "markdown",
   "metadata": {},
   "source": [
    "# Load and process data"
   ]
  },
  {
   "cell_type": "markdown",
   "metadata": {},
   "source": [
    "## Get results file"
   ]
  },
  {
   "cell_type": "code",
   "execution_count": 13,
   "metadata": {
    "ExecuteTime": {
     "end_time": "2019-03-16T21:09:38.520285Z",
     "start_time": "2019-03-16T21:09:38.509404Z"
    }
   },
   "outputs": [],
   "source": [
    "results_files = [f for f in makeDataFileList(env.INPUT_FOLDER_PATH) if f[-3:] == 'csv']\n",
    "data = pd.read_csv(results_files[0])"
   ]
  },
  {
   "cell_type": "markdown",
   "metadata": {},
   "source": [
    "## Remove non-response rows"
   ]
  },
  {
   "cell_type": "code",
   "execution_count": 14,
   "metadata": {
    "ExecuteTime": {
     "end_time": "2019-03-16T21:09:38.683333Z",
     "start_time": "2019-03-16T21:09:38.679610Z"
    }
   },
   "outputs": [],
   "source": [
    "dropped = data[data.index <= 1]\n",
    "data = data[data.index > 1]"
   ]
  },
  {
   "cell_type": "markdown",
   "metadata": {},
   "source": [
    "## Remove unneded columns"
   ]
  },
  {
   "cell_type": "code",
   "execution_count": 15,
   "metadata": {
    "ExecuteTime": {
     "end_time": "2019-03-16T21:09:38.884094Z",
     "start_time": "2019-03-16T21:09:38.847572Z"
    }
   },
   "outputs": [],
   "source": [
    "drop_columns = ['DistributionChannel', 'UserLanguage', 'Status' ]\n",
    "data.drop(drop_columns, axis=1, inplace=True)\n",
    "data.dropna(how='all', axis=0, inplace=True)"
   ]
  },
  {
   "cell_type": "markdown",
   "metadata": {},
   "source": [
    "## Set timestamps"
   ]
  },
  {
   "cell_type": "code",
   "execution_count": 35,
   "metadata": {
    "ExecuteTime": {
     "end_time": "2019-03-16T21:24:01.178991Z",
     "start_time": "2019-03-16T21:24:01.090378Z"
    }
   },
   "outputs": [],
   "source": [
    "# Voting dates\n",
    "date_fields = ['StartDate', 'EndDate', 'RecordedDate']\n",
    "def make_ts(row):\n",
    "    return pd.to_datetime(row[date_fields])\n",
    "data[date_fields] = data.apply(lambda x: make_ts(x), axis=1)"
   ]
  },
  {
   "cell_type": "markdown",
   "metadata": {},
   "source": [
    "## Process the data"
   ]
  },
  {
   "cell_type": "code",
   "execution_count": 5,
   "metadata": {
    "ExecuteTime": {
     "end_time": "2019-03-16T19:52:31.896548Z",
     "start_time": "2019-03-16T19:52:31.862111Z"
    },
    "deletable": false,
    "editable": false,
    "run_control": {
     "frozen": true
    }
   },
   "outputs": [],
   "source": [
    "from counter.Exceptions import OfficeProcessingError\n",
    "from counter.DataObjects import OfficeElection\n",
    "from counter.Definitions import OfficeDefinitions\n",
    "\n",
    "# Read in the properties of the various offices\n",
    "Definitions = OfficeDefinitions()\n",
    "\n",
    "def process_results(frame):\n",
    "    \"\"\"This is the master processing function\n",
    "    Returns a list of results objects for each office where no errors\n",
    "    were encountered.\n",
    "    \"\"\"\n",
    "    results = []\n",
    "    \n",
    "    results_columns = get_results_column_names(frame)\n",
    "    for c in results_columns:\n",
    "        # create a data store object\n",
    "        office_name = Definitions.get_office_name_for_field(c)\n",
    "        requires_maj = Definitions.office_requires_majority(c)\n",
    "        write_in_columns = get_write_in_column_names(frame, c)\n",
    "        r = OfficeElection(officeName=office_name, \n",
    "                           fieldName=c, \n",
    "                           writeInFieldNames=write_in_columns,\n",
    "                          requires_majority=requires_maj\n",
    "                          )\n",
    "        # it will pull out the relevant columns\n",
    "        r.add_data(frame)\n",
    "        try:\n",
    "            office_counts = process_office_columns(r)\n",
    "            results.append(r)\n",
    "        except OfficeProcessingError as err:\n",
    "            # These blocked the results object from being added to the \n",
    "            # results list\n",
    "            print(\"Error proccessing office: {}\".format(office_name))\n",
    "            for e in err.errors:\n",
    "                print(e)\n",
    "    return results\n",
    "\n",
    "\n",
    "def save_results(output_file, results):\n",
    "    \"\"\"Writes results to output file\"\"\"\n",
    "    with pd.ExcelWriter(output_file) as writer:\n",
    "        for result in results:\n",
    "#             print(\"Writing results of {} to file\".format(result.officeName))\n",
    "            result.vote_counts.to_excel(writer, sheet_name=result.officeName)\n"
   ]
  },
  {
   "cell_type": "code",
   "execution_count": 16,
   "metadata": {
    "ExecuteTime": {
     "end_time": "2019-03-16T21:09:39.201280Z",
     "start_time": "2019-03-16T21:09:39.116139Z"
    }
   },
   "outputs": [],
   "source": [
    "results = process_results(data)\n",
    "# save_results(env.OUTPUT_FILE, results)"
   ]
  },
  {
   "cell_type": "markdown",
   "metadata": {},
   "source": [
    "# Results !"
   ]
  },
  {
   "cell_type": "markdown",
   "metadata": {},
   "source": [
    "## Vote counts and percentage of total valid votes\n",
    "\n",
    "NB, Officers of the Faculty and the Statewide Senator must be elected by a majority of votes. Thus for these offices we need a run off if 'pct_of_valid' is not greater than %50 for one candidate. \n",
    "\n",
    "I've nonetheless included the percentage of valid votes for all other offices in case it is of interest."
   ]
  },
  {
   "cell_type": "code",
   "execution_count": 17,
   "metadata": {
    "ExecuteTime": {
     "end_time": "2019-03-16T21:09:39.510522Z",
     "start_time": "2019-03-16T21:09:39.395348Z"
    }
   },
   "outputs": [
    {
     "data": {
      "text/latex": [
       "\\begin{figure}\n",
       "    \\caption{ATC}\n",
       "    \\begin{tabular}{lrr}\n",
       "\\toprule\n",
       "{} &  number\\_votes &  pct\\_of\\_valid \\\\\n",
       "\\midrule\n",
       "Mauro Carassai        &          15.0 &     27.272727 \\\\\n",
       "Danielle Jarvis       &          13.0 &     23.636364 \\\\\n",
       "Debi Prasad Choudhary &          12.0 &     21.818182 \\\\\n",
       "Mariano Loza-Coll     &          11.0 &     20.000000 \\\\\n",
       "Philip Calvert        &           4.0 &      7.272727 \\\\\n",
       "\\bottomrule\n",
       "\\end{tabular}\n",
       "\n",
       "    \\end{figure}"
      ],
      "text/plain": [
       "<IPython.core.display.Latex object>"
      ]
     },
     "metadata": {},
     "output_type": "display_data"
    },
    {
     "data": {
      "text/latex": [
       "\\begin{figure}\n",
       "    \\caption{EEC}\n",
       "    \\begin{tabular}{lrr}\n",
       "\\toprule\n",
       "{} &  number\\_votes &  pct\\_of\\_valid \\\\\n",
       "\\midrule\n",
       "John Valdovinos         &          21.0 &     36.206897 \\\\\n",
       "Martha Escobar          &          19.0 &     32.758621 \\\\\n",
       "Xochitl Flores-Marcial  &          18.0 &     31.034483 \\\\\n",
       "Linda Alvarez           &          17.0 &     29.310345 \\\\\n",
       "Susan Cohen             &          16.0 &     27.586207 \\\\\n",
       "Wladimir Lyra           &          16.0 &     27.586207 \\\\\n",
       "Carmen Saunders-Russell &          15.0 &     25.862069 \\\\\n",
       "Teri Todd               &          15.0 &     25.862069 \\\\\n",
       "Gina Masequesmay        &          14.0 &     24.137931 \\\\\n",
       "Dylan Brandon Altman    &           9.0 &     15.517241 \\\\\n",
       "\\bottomrule\n",
       "\\end{tabular}\n",
       "\n",
       "    \\end{figure}"
      ],
      "text/plain": [
       "<IPython.core.display.Latex object>"
      ]
     },
     "metadata": {},
     "output_type": "display_data"
    },
    {
     "data": {
      "text/latex": [
       "\\begin{figure}\n",
       "    \\caption{EPC}\n",
       "    \\begin{tabular}{lrr}\n",
       "\\toprule\n",
       "{} &  number\\_votes &  pct\\_of\\_valid \\\\\n",
       "\\midrule\n",
       "Lawrence Becker            &          22.0 &     40.000000 \\\\\n",
       "Yoko Mimura                &          18.0 &     32.727273 \\\\\n",
       "Samira Moughrabi           &          16.0 &     29.090909 \\\\\n",
       "Tadeh Zirakian             &          15.0 &     27.272727 \\\\\n",
       "Dan Weingarten             &          11.0 &     20.000000 \\\\\n",
       "Lorenz Gamma               &          10.0 &     18.181818 \\\\\n",
       "Rodica Kohn                &           7.0 &     12.727273 \\\\\n",
       "Konstantinos  Vrongistinos &           5.0 &      9.090909 \\\\\n",
       "\\bottomrule\n",
       "\\end{tabular}\n",
       "\n",
       "    \\end{figure}"
      ],
      "text/plain": [
       "<IPython.core.display.Latex object>"
      ]
     },
     "metadata": {},
     "output_type": "display_data"
    },
    {
     "data": {
      "text/latex": [
       "\\begin{figure}\n",
       "    \\caption{ERC}\n",
       "    \\begin{tabular}{lrr}\n",
       "\\toprule\n",
       "{} &  number\\_votes &  pct\\_of\\_valid \\\\\n",
       "\\midrule\n",
       "Greg Knotts                &          34.0 &     57.627119 \\\\\n",
       "Katherine Stevenson        &          28.0 &     47.457627 \\\\\n",
       "Carrie Saetermoe           &          27.0 &     45.762712 \\\\\n",
       "Amalie Orme                &          15.0 &     25.423729 \\\\\n",
       "Konstantinos  Vrongistinos &           9.0 &     15.254237 \\\\\n",
       "Konstantinos Vrongistinos  &           1.0 &      1.694915 \\\\\n",
       "\\bottomrule\n",
       "\\end{tabular}\n",
       "\n",
       "    \\end{figure}"
      ],
      "text/plain": [
       "<IPython.core.display.Latex object>"
      ]
     },
     "metadata": {},
     "output_type": "display_data"
    },
    {
     "data": {
      "text/latex": [
       "\\begin{figure}\n",
       "    \\caption{Grad Studies}\n",
       "    \\begin{tabular}{lrr}\n",
       "\\toprule\n",
       "{} &  number\\_votes &  pct\\_of\\_valid \\\\\n",
       "\\midrule\n",
       "Shereazad Jimmy Gandhi &          27.0 &     49.090909 \\\\\n",
       "Joanne Busillo-Aguayo  &          21.0 &     38.181818 \\\\\n",
       "Allen Lipscomb         &          19.0 &     34.545455 \\\\\n",
       "Marquita Gammage       &          18.0 &     32.727273 \\\\\n",
       "Samantha Fields        &          16.0 &     29.090909 \\\\\n",
       "Keiko Hirata           &          15.0 &     27.272727 \\\\\n",
       "Monica Garcia          &          14.0 &     25.454545 \\\\\n",
       "Rosa M. Angulo-Barroso &          11.0 &     20.000000 \\\\\n",
       "Manghar Hussein        &           8.0 &     14.545455 \\\\\n",
       "Grishma Bhavsar        &           1.0 &      1.818182 \\\\\n",
       "\\bottomrule\n",
       "\\end{tabular}\n",
       "\n",
       "    \\end{figure}"
      ],
      "text/plain": [
       "<IPython.core.display.Latex object>"
      ]
     },
     "metadata": {},
     "output_type": "display_data"
    },
    {
     "data": {
      "text/latex": [
       "\\begin{figure}\n",
       "    \\caption{Library }\n",
       "    \\begin{tabular}{lrr}\n",
       "\\toprule\n",
       "{} &  number\\_votes &  pct\\_of\\_valid \\\\\n",
       "\\midrule\n",
       "Meiqin Wang           &          14.0 &     26.415094 \\\\\n",
       "Annette Besnilian     &          12.0 &     22.641509 \\\\\n",
       "Rosalia Garcia-Torres &           8.0 &     15.094340 \\\\\n",
       "John J. Garcia        &           7.0 &     13.207547 \\\\\n",
       "Katya Mkrtchyan       &           7.0 &     13.207547 \\\\\n",
       "Michael Doron         &           5.0 &      9.433962 \\\\\n",
       "\\bottomrule\n",
       "\\end{tabular}\n",
       "\n",
       "    \\end{figure}"
      ],
      "text/plain": [
       "<IPython.core.display.Latex object>"
      ]
     },
     "metadata": {},
     "output_type": "display_data"
    },
    {
     "data": {
      "text/latex": [
       "\\begin{figure}\n",
       "    \\caption{LRAC}\n",
       "    \\begin{tabular}{lrr}\n",
       "\\toprule\n",
       "{} &  number\\_votes &  pct\\_of\\_valid \\\\\n",
       "\\midrule\n",
       "Gina Masequesmay   &          14.0 &     26.923077 \\\\\n",
       "Karen D. Carpenter &          13.0 &     25.000000 \\\\\n",
       "Tadeh Zirakian     &          13.0 &     25.000000 \\\\\n",
       "Lynette Henderson  &           7.0 &     13.461538 \\\\\n",
       "Amalie Orme        &           5.0 &      9.615385 \\\\\n",
       "\\bottomrule\n",
       "\\end{tabular}\n",
       "\n",
       "    \\end{figure}"
      ],
      "text/plain": [
       "<IPython.core.display.Latex object>"
      ]
     },
     "metadata": {},
     "output_type": "display_data"
    }
   ],
   "source": [
    "from IPython.display import display, Math, Latex, HTML\n",
    "\n",
    "for r in results:\n",
    "    out = \"\"\"\\\\begin{figure}\n",
    "    \\\\caption{%s}\n",
    "    %s\n",
    "    \\\\end{figure}\"\"\" % (r.officeName, r.combined_results_frame.T.to_latex())\n",
    "    display(Latex(out))"
   ]
  },
  {
   "cell_type": "markdown",
   "metadata": {},
   "source": [
    "## Visualized\n",
    "\n",
    "Here's the results data in chart form (sorry, it was too much of a pain to integrate these with the tables)\n",
    "\n",
    "Again, the plots in the column on the right are unnecessary for senators-at-large and standing committees."
   ]
  },
  {
   "cell_type": "code",
   "execution_count": 18,
   "metadata": {
    "ExecuteTime": {
     "end_time": "2019-03-16T21:09:42.127978Z",
     "start_time": "2019-03-16T21:09:39.601820Z"
    },
    "scrolled": false
   },
   "outputs": [
    {
     "data": {
      "image/png": "[encoded data removed]",
      "text/plain": [
       "<Figure size 1224x1800 with 8 Axes>"
      ]
     },
     "metadata": {},
     "output_type": "display_data"
    }
   ],
   "source": [
    "n = round(len(results)/2)\n",
    "fig, axes = plt.subplots(nrows=n, ncols=2, figsize=(17,25))\n",
    "row = 0; col=0\n",
    "for r in results[:n]:\n",
    "    r.vote_counts.plot(kind='barh', title=r.officeName, ax=axes[row, 0])\n",
    "    axes[row, 0].set_xlabel(\"Vote count\")\n",
    "    r.percentages_of_valid.plot(kind='barh', title=r.officeName + \"-- Percentage of total valid votes\", ax=axes[row, 1])\n",
    "    axes[row, 1].set_xlabel(\"%\")\n",
    "    row +=1\n",
    "fig.tight_layout()"
   ]
  },
  {
   "cell_type": "markdown",
   "metadata": {},
   "source": [
    "For the ERC election, note that Dino's name had 2 spaces in between his first and last name on the ballot. The folks who chose to write his name in rather than selecting it added 1 space, thus my program didn't combine them.\n"
   ]
  },
  {
   "cell_type": "markdown",
   "metadata": {},
   "source": [
    "\n"
   ]
  },
  {
   "cell_type": "markdown",
   "metadata": {},
   "source": [
    "## Abstentions\n",
    "\n",
    "It's worth looking briefly at abstentions. Those on the Senate know my militant view on abstentions. Holes are privations of dirt. Abstentions are privations of votes.^. \n",
    "\n",
    "This fits with the Robert's Rules treatment of abstentions, which governs our elections: only ballots which indicate a preference count toward vote totals. Writing in 'Anyone but these yahoos' expresses a preference. A blank ballot expresses the absence of a preference. Therefore, abstentions do not count in the denominator for offices which require the winner to obtain a majority.\n",
    "\n",
    "There's not much to be learned from the amount of abstentions ---we cannot infer that voters hated all the candidates since it could've been that they loved them all equally.^^ But, for completeness, here they are: \n",
    "\n",
    "\n",
    "^ Technically, they exist but do not subsist\n",
    "\n",
    "^^ For arguments that it isn't always rational to flip a coin in these cases, see (my former teacher) Ruth Chang's work on incommensurable values"
   ]
  },
  {
   "cell_type": "code",
   "execution_count": 16,
   "metadata": {
    "ExecuteTime": {
     "end_time": "2019-03-16T20:21:34.821120Z",
     "start_time": "2019-03-16T20:21:34.803495Z"
    }
   },
   "outputs": [
    {
     "data": {
      "text/latex": [
       "\\begin{tabular}{lrrrrrrr}\n",
       "\\toprule\n",
       "{} &  ATC &  EEC &  EPC &  ERC &  Grad Studies &  LRAC &  Library  \\\\\n",
       "\\midrule\n",
       "0 &  9.0 &  NaN &  NaN &  NaN &           NaN &   NaN &       NaN \\\\\n",
       "1 &  NaN &  6.0 &  NaN &  NaN &           NaN &   NaN &       NaN \\\\\n",
       "2 &  NaN &  NaN &  9.0 &  NaN &           NaN &   NaN &       NaN \\\\\n",
       "3 &  NaN &  NaN &  NaN &  5.0 &           NaN &   NaN &       NaN \\\\\n",
       "4 &  NaN &  NaN &  NaN &  NaN &           9.0 &   NaN &       NaN \\\\\n",
       "5 &  NaN &  NaN &  NaN &  NaN &           NaN &   NaN &      11.0 \\\\\n",
       "6 &  NaN &  NaN &  NaN &  NaN &           NaN &  12.0 &       NaN \\\\\n",
       "\\bottomrule\n",
       "\\end{tabular}\n"
      ],
      "text/plain": [
       "<IPython.core.display.Latex object>"
      ]
     },
     "metadata": {},
     "output_type": "display_data"
    }
   ],
   "source": [
    "d = []\n",
    "for r in results:\n",
    "    d.append({r.officeName : r.number_abstentions})\n",
    "abst = pd.DataFrame(d)\n",
    "display(Latex(abst.to_latex()))"
   ]
  },
  {
   "cell_type": "code",
   "execution_count": 25,
   "metadata": {
    "ExecuteTime": {
     "end_time": "2019-03-16T20:27:29.912298Z",
     "start_time": "2019-03-16T20:27:29.575107Z"
    }
   },
   "outputs": [
    {
     "data": {
      "image/png": "[encoded data removed]",
      "text/plain": [
       "<Figure size 576x360 with 1 Axes>"
      ]
     },
     "metadata": {
      "needs_background": "light"
     },
     "output_type": "display_data"
    }
   ],
   "source": [
    "fig, axes = plt.subplots(figsize=(8,5))\n",
    "abst.T.plot(kind='barh', title='Abstentions', ax=axes)\n",
    "axes.get_legend().remove()\n",
    "# axes.legend(loc=9, ncol=7, mode='expand', borderaxespad=0.)\n",
    "axes.set_xlabel(\"Count\")\n",
    "fig.tight_layout()"
   ]
  },
  {
   "cell_type": "markdown",
   "metadata": {
    "ExecuteTime": {
     "end_time": "2019-03-16T18:09:47.165583Z",
     "start_time": "2019-03-16T18:09:47.163226Z"
    }
   },
   "source": [
    "# General properties of the election"
   ]
  },
  {
   "cell_type": "markdown",
   "metadata": {},
   "source": [
    "## Total votes cast"
   ]
  },
  {
   "cell_type": "code",
   "execution_count": 26,
   "metadata": {
    "ExecuteTime": {
     "end_time": "2019-03-16T20:27:48.578122Z",
     "start_time": "2019-03-16T20:27:48.568437Z"
    }
   },
   "outputs": [
    {
     "data": {
      "text/latex": [
       "\\begin{tabular}{lrrrrrrr}\n",
       "\\toprule\n",
       "{} &   ATC &   EEC &   EPC &   ERC &  Grad Studies &  LRAC &  Library  \\\\\n",
       "\\midrule\n",
       "0 &  64.0 &   NaN &   NaN &   NaN &           NaN &   NaN &       NaN \\\\\n",
       "1 &   NaN &  64.0 &   NaN &   NaN &           NaN &   NaN &       NaN \\\\\n",
       "2 &   NaN &   NaN &  64.0 &   NaN &           NaN &   NaN &       NaN \\\\\n",
       "3 &   NaN &   NaN &   NaN &  64.0 &           NaN &   NaN &       NaN \\\\\n",
       "4 &   NaN &   NaN &   NaN &   NaN &          64.0 &   NaN &       NaN \\\\\n",
       "5 &   NaN &   NaN &   NaN &   NaN &           NaN &   NaN &      64.0 \\\\\n",
       "6 &   NaN &   NaN &   NaN &   NaN &           NaN &  64.0 &       NaN \\\\\n",
       "\\bottomrule\n",
       "\\end{tabular}\n"
      ],
      "text/plain": [
       "<IPython.core.display.Latex object>"
      ]
     },
     "metadata": {},
     "output_type": "display_data"
    }
   ],
   "source": [
    "cast = []\n",
    "for r in results:\n",
    "    cast.append({r.officeName : r.cast_votes})\n",
    "cast = pd.DataFrame(cast)\n",
    "display(Latex(cast.to_latex()))"
   ]
  },
  {
   "cell_type": "code",
   "execution_count": 29,
   "metadata": {
    "ExecuteTime": {
     "end_time": "2019-03-16T20:28:53.917376Z",
     "start_time": "2019-03-16T20:28:53.548113Z"
    }
   },
   "outputs": [
    {
     "data": {
      "image/png": "[encoded data removed]",
      "text/plain": [
       "<Figure size 576x360 with 1 Axes>"
      ]
     },
     "metadata": {
      "needs_background": "light"
     },
     "output_type": "display_data"
    }
   ],
   "source": [
    "fig, axes = plt.subplots(figsize=(8,5))\n",
    "cast.T.plot(kind='barh', title='Total votes cast', ax=axes)\n",
    "axes.get_legend().remove()\n",
    "axes.set_xlabel(\"Count\")\n",
    "fig.tight_layout()"
   ]
  },
  {
   "cell_type": "markdown",
   "metadata": {},
   "source": [
    "## Proportion of eligible voters"
   ]
  },
  {
   "cell_type": "code",
   "execution_count": 21,
   "metadata": {
    "ExecuteTime": {
     "end_time": "2019-03-16T21:10:14.123295Z",
     "start_time": "2019-03-16T21:10:14.111834Z"
    }
   },
   "outputs": [],
   "source": [
    "eligible = pd.read_excel(env.ELIGIBILITY_FILE_PATH)\n",
    "eligible.set_index('year', inplace=True)"
   ]
  },
  {
   "cell_type": "code",
   "execution_count": 22,
   "metadata": {
    "ExecuteTime": {
     "end_time": "2019-03-16T21:10:15.859455Z",
     "start_time": "2019-03-16T21:10:15.851783Z"
    }
   },
   "outputs": [
    {
     "data": {
      "text/html": [
       "<div>\n",
       "<style scoped>\n",
       "    .dataframe tbody tr th:only-of-type {\n",
       "        vertical-align: middle;\n",
       "    }\n",
       "\n",
       "    .dataframe tbody tr th {\n",
       "        vertical-align: top;\n",
       "    }\n",
       "\n",
       "    .dataframe thead th {\n",
       "        text-align: right;\n",
       "    }\n",
       "</style>\n",
       "<table border=\"1\" class=\"dataframe\">\n",
       "  <thead>\n",
       "    <tr style=\"text-align: right;\">\n",
       "      <th></th>\n",
       "      <th>general</th>\n",
       "      <th>standing_committees</th>\n",
       "    </tr>\n",
       "    <tr>\n",
       "      <th>year</th>\n",
       "      <th></th>\n",
       "      <th></th>\n",
       "    </tr>\n",
       "  </thead>\n",
       "  <tbody>\n",
       "    <tr>\n",
       "      <th>2012</th>\n",
       "      <td>932</td>\n",
       "      <td>NaN</td>\n",
       "    </tr>\n",
       "    <tr>\n",
       "      <th>2013</th>\n",
       "      <td>957</td>\n",
       "      <td>NaN</td>\n",
       "    </tr>\n",
       "    <tr>\n",
       "      <th>2014</th>\n",
       "      <td>962</td>\n",
       "      <td>NaN</td>\n",
       "    </tr>\n",
       "    <tr>\n",
       "      <th>2015</th>\n",
       "      <td>970</td>\n",
       "      <td>70.0</td>\n",
       "    </tr>\n",
       "    <tr>\n",
       "      <th>2016</th>\n",
       "      <td>1036</td>\n",
       "      <td>69.0</td>\n",
       "    </tr>\n",
       "    <tr>\n",
       "      <th>2017</th>\n",
       "      <td>1013</td>\n",
       "      <td>69.0</td>\n",
       "    </tr>\n",
       "    <tr>\n",
       "      <th>2018</th>\n",
       "      <td>1004</td>\n",
       "      <td>71.0</td>\n",
       "    </tr>\n",
       "    <tr>\n",
       "      <th>2019</th>\n",
       "      <td>998</td>\n",
       "      <td>73.0</td>\n",
       "    </tr>\n",
       "  </tbody>\n",
       "</table>\n",
       "</div>"
      ],
      "text/plain": [
       "      general  standing_committees\n",
       "year                              \n",
       "2012      932                  NaN\n",
       "2013      957                  NaN\n",
       "2014      962                  NaN\n",
       "2015      970                 70.0\n",
       "2016     1036                 69.0\n",
       "2017     1013                 69.0\n",
       "2018     1004                 71.0\n",
       "2019      998                 73.0"
      ]
     },
     "execution_count": 22,
     "metadata": {},
     "output_type": "execute_result"
    }
   ],
   "source": [
    "eligible"
   ]
  },
  {
   "cell_type": "code",
   "execution_count": null,
   "metadata": {},
   "outputs": [],
   "source": []
  },
  {
   "cell_type": "code",
   "execution_count": null,
   "metadata": {},
   "outputs": [],
   "source": []
  },
  {
   "cell_type": "code",
   "execution_count": null,
   "metadata": {},
   "outputs": [],
   "source": []
  },
  {
   "cell_type": "code",
   "execution_count": null,
   "metadata": {},
   "outputs": [],
   "source": []
  },
  {
   "cell_type": "markdown",
   "metadata": {},
   "source": [
    "## Daily marginal votes cast"
   ]
  },
  {
   "cell_type": "code",
   "execution_count": 23,
   "metadata": {
    "ExecuteTime": {
     "end_time": "2019-03-16T21:10:28.552014Z",
     "start_time": "2019-03-16T21:10:28.467331Z"
    }
   },
   "outputs": [],
   "source": [
    "d= data.copy(deep=True)\n",
    "d.set_index('RecordedDate', inplace=True)"
   ]
  },
  {
   "cell_type": "code",
   "execution_count": 24,
   "metadata": {
    "ExecuteTime": {
     "end_time": "2019-03-16T21:10:31.157169Z",
     "start_time": "2019-03-16T21:10:30.889229Z"
    }
   },
   "outputs": [
    {
     "data": {
      "image/png": "[encoded data removed]",
      "text/plain": [
       "<Figure size 504x360 with 1 Axes>"
      ]
     },
     "metadata": {},
     "output_type": "display_data"
    }
   ],
   "source": [
    "fig, axes = plt.subplots(figsize=(7,5))\n",
    "d.resample('D')['ResponseId'].count().plot(kind='bar', ax=axes)\n",
    "axes.set_ylabel('# votes'); axes.set_title(\"Daily marginal votes\"); axes.set_xlabel('Date')\n",
    "xtl=[item.get_text()[:10] for item in axes.get_xticklabels()]\n",
    "_=axes.set_xticklabels(xtl)\n",
    "# rotate and align the tick labels so they look better\n",
    "fig.autofmt_xdate()\n",
    "fig.tight_layout()"
   ]
  },
  {
   "cell_type": "code",
   "execution_count": 32,
   "metadata": {
    "ExecuteTime": {
     "end_time": "2019-03-16T21:14:37.207807Z",
     "start_time": "2019-03-16T21:14:37.197562Z"
    }
   },
   "outputs": [
    {
     "name": "stdout",
     "output_type": "stream",
     "text": [
      "Day 1 41\n",
      "Day 2 5\n",
      "Day 3 2\n",
      "Day 4 1\n",
      "Day 5 3\n",
      "Day 6 7\n",
      "Day 7 1\n",
      "Day 8 1\n",
      "Day 9 0\n",
      "Day 10 3\n"
     ]
    }
   ],
   "source": [
    "i = 0\n",
    "for v in d.resample('D')['ResponseId'].count():\n",
    "    print(senateData.columns[i], v)\n",
    "    senateData.loc[2019][senateData.columns[i]] = v\n",
    "    i += 1"
   ]
  },
  {
   "cell_type": "code",
   "execution_count": 58,
   "metadata": {
    "ExecuteTime": {
     "end_time": "2019-03-16T21:43:28.972128Z",
     "start_time": "2019-03-16T21:43:28.964864Z"
    }
   },
   "outputs": [
    {
     "data": {
      "text/plain": [
       "RecordedDate\n",
       "2019-03-06    41\n",
       "2019-03-07    46\n",
       "2019-03-08    48\n",
       "2019-03-09    49\n",
       "2019-03-10    52\n",
       "2019-03-11    59\n",
       "2019-03-12    60\n",
       "2019-03-13    61\n",
       "2019-03-14    61\n",
       "2019-03-15    64\n",
       "Freq: D, Name: ResponseId, dtype: int64"
      ]
     },
     "execution_count": 58,
     "metadata": {},
     "output_type": "execute_result"
    }
   ],
   "source": [
    "d.resample('D')['ResponseId'].count().cumsum()\n"
   ]
  },
  {
   "cell_type": "code",
   "execution_count": 70,
   "metadata": {
    "ExecuteTime": {
     "end_time": "2019-03-16T21:52:10.733296Z",
     "start_time": "2019-03-16T21:52:10.727595Z"
    }
   },
   "outputs": [],
   "source": [
    "def load_past_returns(election_type):\n",
    "    # Load the correct df\n",
    "    sheet = \"Data-{}\".format(election_type.lower())\n",
    "#     sheet = 'Data-senate' if election_type == 'senate' else 'Data-general'\n",
    "    pastData = pd.read_excel(env.PAST_RETURNS_FILE_PATH, sheet_name=sheet)\n",
    "    pastData.set_index('Year', inplace=True)\n",
    "    return pastData\n",
    "\n",
    "def update_returns(frame_w_timestamp_index, election_type, year, save=False):\n",
    "    \"\"\"Adds the daily cumulative sum of vote counts for the presesnt year to the\n",
    "    data for past years\"\"\"\n",
    "    past = load_past_returns(election_type)\n",
    "    # Calcluate marginal votes for present year and add\n",
    "    i = 0\n",
    "    for v in frame_w_timestamp_index.resample('D')['ResponseId'].count().cumsum():\n",
    "        past.loc[year, past.columns[i]] = v\n",
    "        i += 1\n",
    "    if save:\n",
    "        sheet = \"Data-{}\".format(election_type.lower())\n",
    "        past.to_excel(env.PAST_RETURNS_FILE_PATH, sheet_name=sheet)\n",
    "    return past\n"
   ]
  },
  {
   "cell_type": "code",
   "execution_count": 71,
   "metadata": {
    "ExecuteTime": {
     "end_time": "2019-03-16T21:52:11.374330Z",
     "start_time": "2019-03-16T21:52:11.094425Z"
    }
   },
   "outputs": [],
   "source": [
    "d = data.set_index('RecordedDate')\n",
    "returns = update_returns(d, 'senate', 2019, True)\n",
    "returns.drop(columns=['Final', 'Eligible', '%Eligible'], inplace=True)\n",
    "returns.dropna(axis=1, how='all', inplace=True)"
   ]
  },
  {
   "cell_type": "code",
   "execution_count": 61,
   "metadata": {
    "ExecuteTime": {
     "end_time": "2019-03-16T21:44:34.937574Z",
     "start_time": "2019-03-16T21:44:34.661762Z"
    }
   },
   "outputs": [
    {
     "data": {
      "image/png": "[encoded data removed]",
      "text/plain": [
       "<Figure size 576x288 with 1 Axes>"
      ]
     },
     "metadata": {},
     "output_type": "display_data"
    }
   ],
   "source": [
    "t = \"General election\"\n",
    "fig, axes = plt.subplots(figsize=(8,4))\n",
    "returns.T.plot(ax=axes)\n",
    "axes.set_title(\"%s -- total votes\" % t)\n",
    "axes.set_ylabel(\"Total votes cast\"); axes.set_xlabel(\"Day in election period\")\n",
    "fig.tight_layout()"
   ]
  },
  {
   "cell_type": "code",
   "execution_count": 63,
   "metadata": {
    "ExecuteTime": {
     "end_time": "2019-03-16T21:47:23.020659Z",
     "start_time": "2019-03-16T21:47:23.009280Z"
    }
   },
   "outputs": [],
   "source": [
    "def calc_proport_of_eligible(frame, year, total):\n",
    "    numEligible = frame.loc[year]\n",
    "    return total / numEligible\n",
    "\n",
    "returnsProport = returns.apply(lambda x : calc_proport_of_eligible(eligible['standing_committees'], x.index, x))"
   ]
  },
  {
   "cell_type": "code",
   "execution_count": 65,
   "metadata": {
    "ExecuteTime": {
     "end_time": "2019-03-16T21:48:21.256065Z",
     "start_time": "2019-03-16T21:48:20.957372Z"
    }
   },
   "outputs": [
    {
     "data": {
      "image/png": "[encoded data removed]",
      "text/plain": [
       "<Figure size 576x288 with 1 Axes>"
      ]
     },
     "metadata": {},
     "output_type": "display_data"
    }
   ],
   "source": [
    "fig, axes = plt.subplots(figsize=(8,4))\n",
    "returnsProport.T.plot(ax=axes)\n",
    "axes.set_title(\"Senate election returns -- proportion of eligible senate voters\")\n",
    "axes.set_ylabel(\"# eligible voters / total votes\"); axes.set_xlabel(\"Day in election period\")\n",
    "fig.tight_layout()"
   ]
  },
  {
   "cell_type": "code",
   "execution_count": 64,
   "metadata": {
    "ExecuteTime": {
     "end_time": "2019-03-16T21:47:28.117551Z",
     "start_time": "2019-03-16T21:47:28.102817Z"
    }
   },
   "outputs": [
    {
     "data": {
      "text/html": [
       "<div>\n",
       "<style scoped>\n",
       "    .dataframe tbody tr th:only-of-type {\n",
       "        vertical-align: middle;\n",
       "    }\n",
       "\n",
       "    .dataframe tbody tr th {\n",
       "        vertical-align: top;\n",
       "    }\n",
       "\n",
       "    .dataframe thead th {\n",
       "        text-align: right;\n",
       "    }\n",
       "</style>\n",
       "<table border=\"1\" class=\"dataframe\">\n",
       "  <thead>\n",
       "    <tr style=\"text-align: right;\">\n",
       "      <th></th>\n",
       "      <th>Day 1</th>\n",
       "      <th>Day 2</th>\n",
       "      <th>Day 3</th>\n",
       "      <th>Day 4</th>\n",
       "      <th>Day 5</th>\n",
       "      <th>Day 6</th>\n",
       "      <th>Day 7</th>\n",
       "      <th>Day 8</th>\n",
       "      <th>Day 9</th>\n",
       "      <th>Day 10</th>\n",
       "      <th>Day 11</th>\n",
       "    </tr>\n",
       "    <tr>\n",
       "      <th>Year</th>\n",
       "      <th></th>\n",
       "      <th></th>\n",
       "      <th></th>\n",
       "      <th></th>\n",
       "      <th></th>\n",
       "      <th></th>\n",
       "      <th></th>\n",
       "      <th></th>\n",
       "      <th></th>\n",
       "      <th></th>\n",
       "      <th></th>\n",
       "    </tr>\n",
       "  </thead>\n",
       "  <tbody>\n",
       "    <tr>\n",
       "      <th>2015</th>\n",
       "      <td>0.242857</td>\n",
       "      <td>0.300000</td>\n",
       "      <td>0.328571</td>\n",
       "      <td>0.342857</td>\n",
       "      <td>0.500000</td>\n",
       "      <td>0.514286</td>\n",
       "      <td>0.514286</td>\n",
       "      <td>0.542857</td>\n",
       "      <td>0.571429</td>\n",
       "      <td>0.585714</td>\n",
       "      <td>0.585714</td>\n",
       "    </tr>\n",
       "    <tr>\n",
       "      <th>2016</th>\n",
       "      <td>0.333333</td>\n",
       "      <td>0.449275</td>\n",
       "      <td>0.478261</td>\n",
       "      <td>0.507246</td>\n",
       "      <td>0.579710</td>\n",
       "      <td>0.623188</td>\n",
       "      <td>0.666667</td>\n",
       "      <td>0.681159</td>\n",
       "      <td>0.695652</td>\n",
       "      <td>0.739130</td>\n",
       "      <td>0.753623</td>\n",
       "    </tr>\n",
       "    <tr>\n",
       "      <th>2017</th>\n",
       "      <td>0.289855</td>\n",
       "      <td>0.362319</td>\n",
       "      <td>0.376812</td>\n",
       "      <td>0.507246</td>\n",
       "      <td>0.507246</td>\n",
       "      <td>0.536232</td>\n",
       "      <td>0.536232</td>\n",
       "      <td>0.536232</td>\n",
       "      <td>0.536232</td>\n",
       "      <td>0.623188</td>\n",
       "      <td>0.652174</td>\n",
       "    </tr>\n",
       "    <tr>\n",
       "      <th>2018</th>\n",
       "      <td>0.183099</td>\n",
       "      <td>0.281690</td>\n",
       "      <td>0.338028</td>\n",
       "      <td>0.394366</td>\n",
       "      <td>0.436620</td>\n",
       "      <td>0.464789</td>\n",
       "      <td>0.478873</td>\n",
       "      <td>0.535211</td>\n",
       "      <td>0.549296</td>\n",
       "      <td>0.577465</td>\n",
       "      <td>0.704225</td>\n",
       "    </tr>\n",
       "    <tr>\n",
       "      <th>2019</th>\n",
       "      <td>0.561644</td>\n",
       "      <td>0.630137</td>\n",
       "      <td>0.657534</td>\n",
       "      <td>0.671233</td>\n",
       "      <td>0.712329</td>\n",
       "      <td>0.808219</td>\n",
       "      <td>0.821918</td>\n",
       "      <td>0.835616</td>\n",
       "      <td>0.835616</td>\n",
       "      <td>0.876712</td>\n",
       "      <td>NaN</td>\n",
       "    </tr>\n",
       "  </tbody>\n",
       "</table>\n",
       "</div>"
      ],
      "text/plain": [
       "         Day 1     Day 2     Day 3     Day 4     Day 5     Day 6     Day 7  \\\n",
       "Year                                                                         \n",
       "2015  0.242857  0.300000  0.328571  0.342857  0.500000  0.514286  0.514286   \n",
       "2016  0.333333  0.449275  0.478261  0.507246  0.579710  0.623188  0.666667   \n",
       "2017  0.289855  0.362319  0.376812  0.507246  0.507246  0.536232  0.536232   \n",
       "2018  0.183099  0.281690  0.338028  0.394366  0.436620  0.464789  0.478873   \n",
       "2019  0.561644  0.630137  0.657534  0.671233  0.712329  0.808219  0.821918   \n",
       "\n",
       "         Day 8     Day 9    Day 10    Day 11  \n",
       "Year                                          \n",
       "2015  0.542857  0.571429  0.585714  0.585714  \n",
       "2016  0.681159  0.695652  0.739130  0.753623  \n",
       "2017  0.536232  0.536232  0.623188  0.652174  \n",
       "2018  0.535211  0.549296  0.577465  0.704225  \n",
       "2019  0.835616  0.835616  0.876712       NaN  "
      ]
     },
     "execution_count": 64,
     "metadata": {},
     "output_type": "execute_result"
    }
   ],
   "source": [
    "returnsProport"
   ]
  },
  {
   "cell_type": "code",
   "execution_count": 53,
   "metadata": {
    "ExecuteTime": {
     "end_time": "2019-03-16T21:41:33.805600Z",
     "start_time": "2019-03-16T21:41:33.787352Z"
    }
   },
   "outputs": [
    {
     "data": {
      "text/html": [
       "<div>\n",
       "<style scoped>\n",
       "    .dataframe tbody tr th:only-of-type {\n",
       "        vertical-align: middle;\n",
       "    }\n",
       "\n",
       "    .dataframe tbody tr th {\n",
       "        vertical-align: top;\n",
       "    }\n",
       "\n",
       "    .dataframe thead th {\n",
       "        text-align: right;\n",
       "    }\n",
       "</style>\n",
       "<table border=\"1\" class=\"dataframe\">\n",
       "  <thead>\n",
       "    <tr style=\"text-align: right;\">\n",
       "      <th></th>\n",
       "      <th>Day 1</th>\n",
       "      <th>Day 2</th>\n",
       "      <th>Day 3</th>\n",
       "      <th>Day 4</th>\n",
       "      <th>Day 5</th>\n",
       "      <th>Day 6</th>\n",
       "      <th>Day 7</th>\n",
       "      <th>Day 8</th>\n",
       "      <th>Day 9</th>\n",
       "      <th>Day 10</th>\n",
       "      <th>Day 11</th>\n",
       "    </tr>\n",
       "    <tr>\n",
       "      <th>Year</th>\n",
       "      <th></th>\n",
       "      <th></th>\n",
       "      <th></th>\n",
       "      <th></th>\n",
       "      <th></th>\n",
       "      <th></th>\n",
       "      <th></th>\n",
       "      <th></th>\n",
       "      <th></th>\n",
       "      <th></th>\n",
       "      <th></th>\n",
       "    </tr>\n",
       "  </thead>\n",
       "  <tbody>\n",
       "    <tr>\n",
       "      <th>2015</th>\n",
       "      <td>17.0</td>\n",
       "      <td>21.0</td>\n",
       "      <td>23.0</td>\n",
       "      <td>24.0</td>\n",
       "      <td>35.0</td>\n",
       "      <td>36.0</td>\n",
       "      <td>36.0</td>\n",
       "      <td>38.0</td>\n",
       "      <td>40.0</td>\n",
       "      <td>41.0</td>\n",
       "      <td>41.0</td>\n",
       "    </tr>\n",
       "    <tr>\n",
       "      <th>2016</th>\n",
       "      <td>23.0</td>\n",
       "      <td>31.0</td>\n",
       "      <td>33.0</td>\n",
       "      <td>35.0</td>\n",
       "      <td>40.0</td>\n",
       "      <td>43.0</td>\n",
       "      <td>46.0</td>\n",
       "      <td>47.0</td>\n",
       "      <td>48.0</td>\n",
       "      <td>51.0</td>\n",
       "      <td>52.0</td>\n",
       "    </tr>\n",
       "    <tr>\n",
       "      <th>2017</th>\n",
       "      <td>20.0</td>\n",
       "      <td>25.0</td>\n",
       "      <td>26.0</td>\n",
       "      <td>35.0</td>\n",
       "      <td>35.0</td>\n",
       "      <td>37.0</td>\n",
       "      <td>37.0</td>\n",
       "      <td>37.0</td>\n",
       "      <td>37.0</td>\n",
       "      <td>43.0</td>\n",
       "      <td>45.0</td>\n",
       "    </tr>\n",
       "    <tr>\n",
       "      <th>2018</th>\n",
       "      <td>13.0</td>\n",
       "      <td>20.0</td>\n",
       "      <td>24.0</td>\n",
       "      <td>28.0</td>\n",
       "      <td>31.0</td>\n",
       "      <td>33.0</td>\n",
       "      <td>34.0</td>\n",
       "      <td>38.0</td>\n",
       "      <td>39.0</td>\n",
       "      <td>41.0</td>\n",
       "      <td>50.0</td>\n",
       "    </tr>\n",
       "    <tr>\n",
       "      <th>2019</th>\n",
       "      <td>41.0</td>\n",
       "      <td>5.0</td>\n",
       "      <td>2.0</td>\n",
       "      <td>1.0</td>\n",
       "      <td>3.0</td>\n",
       "      <td>7.0</td>\n",
       "      <td>1.0</td>\n",
       "      <td>1.0</td>\n",
       "      <td>0.0</td>\n",
       "      <td>3.0</td>\n",
       "      <td>NaN</td>\n",
       "    </tr>\n",
       "  </tbody>\n",
       "</table>\n",
       "</div>"
      ],
      "text/plain": [
       "      Day 1  Day 2  Day 3  Day 4  Day 5  Day 6  Day 7  Day 8  Day 9  Day 10  \\\n",
       "Year                                                                          \n",
       "2015   17.0   21.0   23.0   24.0   35.0   36.0   36.0   38.0   40.0    41.0   \n",
       "2016   23.0   31.0   33.0   35.0   40.0   43.0   46.0   47.0   48.0    51.0   \n",
       "2017   20.0   25.0   26.0   35.0   35.0   37.0   37.0   37.0   37.0    43.0   \n",
       "2018   13.0   20.0   24.0   28.0   31.0   33.0   34.0   38.0   39.0    41.0   \n",
       "2019   41.0    5.0    2.0    1.0    3.0    7.0    1.0    1.0    0.0     3.0   \n",
       "\n",
       "      Day 11  \n",
       "Year          \n",
       "2015    41.0  \n",
       "2016    52.0  \n",
       "2017    45.0  \n",
       "2018    50.0  \n",
       "2019     NaN  "
      ]
     },
     "execution_count": 53,
     "metadata": {},
     "output_type": "execute_result"
    }
   ],
   "source": [
    "senateData"
   ]
  },
  {
   "cell_type": "code",
   "execution_count": 54,
   "metadata": {
    "ExecuteTime": {
     "end_time": "2019-03-16T21:41:33.935685Z",
     "start_time": "2019-03-16T21:41:33.930466Z"
    }
   },
   "outputs": [
    {
     "data": {
      "text/plain": [
       "Index(['Day 1', 'Day 2', 'Day 3', 'Day 4', 'Day 5', 'Day 6', 'Day 7', 'Day 8',\n",
       "       'Day 9', 'Day 10', 'Day 11', 'Day 12', 'Day 13', 'Day 14'],\n",
       "      dtype='object')"
      ]
     },
     "execution_count": 54,
     "metadata": {},
     "output_type": "execute_result"
    }
   ],
   "source": [
    "generalData.columns"
   ]
  },
  {
   "cell_type": "code",
   "execution_count": 7,
   "metadata": {
    "ExecuteTime": {
     "end_time": "2019-03-16T21:08:59.664669Z",
     "start_time": "2019-03-16T21:08:59.644649Z"
    }
   },
   "outputs": [
    {
     "data": {
      "text/html": [
       "<div>\n",
       "<style scoped>\n",
       "    .dataframe tbody tr th:only-of-type {\n",
       "        vertical-align: middle;\n",
       "    }\n",
       "\n",
       "    .dataframe tbody tr th {\n",
       "        vertical-align: top;\n",
       "    }\n",
       "\n",
       "    .dataframe thead th {\n",
       "        text-align: right;\n",
       "    }\n",
       "</style>\n",
       "<table border=\"1\" class=\"dataframe\">\n",
       "  <thead>\n",
       "    <tr style=\"text-align: right;\">\n",
       "      <th></th>\n",
       "      <th>Day 1</th>\n",
       "      <th>Day 2</th>\n",
       "      <th>Day 3</th>\n",
       "      <th>Day 4</th>\n",
       "      <th>Day 5</th>\n",
       "      <th>Day 6</th>\n",
       "      <th>Day 7</th>\n",
       "      <th>Day 8</th>\n",
       "      <th>Day 9</th>\n",
       "      <th>Day 10</th>\n",
       "      <th>Day 11</th>\n",
       "      <th>Day 12</th>\n",
       "      <th>Day 13</th>\n",
       "      <th>Day 14</th>\n",
       "    </tr>\n",
       "    <tr>\n",
       "      <th>Year</th>\n",
       "      <th></th>\n",
       "      <th></th>\n",
       "      <th></th>\n",
       "      <th></th>\n",
       "      <th></th>\n",
       "      <th></th>\n",
       "      <th></th>\n",
       "      <th></th>\n",
       "      <th></th>\n",
       "      <th></th>\n",
       "      <th></th>\n",
       "      <th></th>\n",
       "      <th></th>\n",
       "      <th></th>\n",
       "    </tr>\n",
       "  </thead>\n",
       "  <tbody>\n",
       "    <tr>\n",
       "      <th>2012</th>\n",
       "      <td>101.0</td>\n",
       "      <td>143.0</td>\n",
       "      <td>178.0</td>\n",
       "      <td>204.0</td>\n",
       "      <td>209.0</td>\n",
       "      <td>213.0</td>\n",
       "      <td>213.0</td>\n",
       "      <td>219.0</td>\n",
       "      <td>221.0</td>\n",
       "      <td>244.0</td>\n",
       "      <td>279.0</td>\n",
       "      <td>279.0</td>\n",
       "      <td>286.0</td>\n",
       "      <td>290.0</td>\n",
       "    </tr>\n",
       "    <tr>\n",
       "      <th>2013</th>\n",
       "      <td>117.0</td>\n",
       "      <td>134.0</td>\n",
       "      <td>141.0</td>\n",
       "      <td>146.0</td>\n",
       "      <td>148.0</td>\n",
       "      <td>213.0</td>\n",
       "      <td>234.0</td>\n",
       "      <td>234.0</td>\n",
       "      <td>241.0</td>\n",
       "      <td>241.0</td>\n",
       "      <td>245.0</td>\n",
       "      <td>245.0</td>\n",
       "      <td>245.0</td>\n",
       "      <td>245.0</td>\n",
       "    </tr>\n",
       "    <tr>\n",
       "      <th>2014</th>\n",
       "      <td>101.0</td>\n",
       "      <td>154.0</td>\n",
       "      <td>162.0</td>\n",
       "      <td>248.0</td>\n",
       "      <td>278.0</td>\n",
       "      <td>292.0</td>\n",
       "      <td>295.0</td>\n",
       "      <td>296.0</td>\n",
       "      <td>328.0</td>\n",
       "      <td>339.0</td>\n",
       "      <td>378.0</td>\n",
       "      <td>378.0</td>\n",
       "      <td>378.0</td>\n",
       "      <td>378.0</td>\n",
       "    </tr>\n",
       "    <tr>\n",
       "      <th>2015</th>\n",
       "      <td>119.0</td>\n",
       "      <td>156.0</td>\n",
       "      <td>162.0</td>\n",
       "      <td>169.0</td>\n",
       "      <td>242.0</td>\n",
       "      <td>263.0</td>\n",
       "      <td>271.0</td>\n",
       "      <td>276.0</td>\n",
       "      <td>325.0</td>\n",
       "      <td>335.0</td>\n",
       "      <td>338.0</td>\n",
       "      <td>338.0</td>\n",
       "      <td>338.0</td>\n",
       "      <td>338.0</td>\n",
       "    </tr>\n",
       "    <tr>\n",
       "      <th>2016</th>\n",
       "      <td>208.0</td>\n",
       "      <td>282.0</td>\n",
       "      <td>298.0</td>\n",
       "      <td>308.0</td>\n",
       "      <td>393.0</td>\n",
       "      <td>403.0</td>\n",
       "      <td>444.0</td>\n",
       "      <td>458.0</td>\n",
       "      <td>462.0</td>\n",
       "      <td>488.0</td>\n",
       "      <td>498.0</td>\n",
       "      <td>498.0</td>\n",
       "      <td>498.0</td>\n",
       "      <td>498.0</td>\n",
       "    </tr>\n",
       "    <tr>\n",
       "      <th>2017</th>\n",
       "      <td>187.0</td>\n",
       "      <td>223.0</td>\n",
       "      <td>228.0</td>\n",
       "      <td>295.0</td>\n",
       "      <td>301.0</td>\n",
       "      <td>305.0</td>\n",
       "      <td>308.0</td>\n",
       "      <td>309.0</td>\n",
       "      <td>309.0</td>\n",
       "      <td>354.0</td>\n",
       "      <td>359.0</td>\n",
       "      <td>359.0</td>\n",
       "      <td>359.0</td>\n",
       "      <td>359.0</td>\n",
       "    </tr>\n",
       "    <tr>\n",
       "      <th>2018</th>\n",
       "      <td>159.0</td>\n",
       "      <td>223.0</td>\n",
       "      <td>274.0</td>\n",
       "      <td>305.0</td>\n",
       "      <td>347.0</td>\n",
       "      <td>359.0</td>\n",
       "      <td>397.0</td>\n",
       "      <td>440.0</td>\n",
       "      <td>477.0</td>\n",
       "      <td>499.0</td>\n",
       "      <td>542.0</td>\n",
       "      <td>542.0</td>\n",
       "      <td>542.0</td>\n",
       "      <td>542.0</td>\n",
       "    </tr>\n",
       "    <tr>\n",
       "      <th>2019</th>\n",
       "      <td>NaN</td>\n",
       "      <td>NaN</td>\n",
       "      <td>NaN</td>\n",
       "      <td>NaN</td>\n",
       "      <td>NaN</td>\n",
       "      <td>NaN</td>\n",
       "      <td>NaN</td>\n",
       "      <td>NaN</td>\n",
       "      <td>NaN</td>\n",
       "      <td>NaN</td>\n",
       "      <td>NaN</td>\n",
       "      <td>NaN</td>\n",
       "      <td>NaN</td>\n",
       "      <td>NaN</td>\n",
       "    </tr>\n",
       "  </tbody>\n",
       "</table>\n",
       "</div>"
      ],
      "text/plain": [
       "      Day 1  Day 2  Day 3  Day 4  Day 5  Day 6  Day 7  Day 8  Day 9  Day 10  \\\n",
       "Year                                                                          \n",
       "2012  101.0  143.0  178.0  204.0  209.0  213.0  213.0  219.0  221.0   244.0   \n",
       "2013  117.0  134.0  141.0  146.0  148.0  213.0  234.0  234.0  241.0   241.0   \n",
       "2014  101.0  154.0  162.0  248.0  278.0  292.0  295.0  296.0  328.0   339.0   \n",
       "2015  119.0  156.0  162.0  169.0  242.0  263.0  271.0  276.0  325.0   335.0   \n",
       "2016  208.0  282.0  298.0  308.0  393.0  403.0  444.0  458.0  462.0   488.0   \n",
       "2017  187.0  223.0  228.0  295.0  301.0  305.0  308.0  309.0  309.0   354.0   \n",
       "2018  159.0  223.0  274.0  305.0  347.0  359.0  397.0  440.0  477.0   499.0   \n",
       "2019    NaN    NaN    NaN    NaN    NaN    NaN    NaN    NaN    NaN     NaN   \n",
       "\n",
       "      Day 11  Day 12  Day 13  Day 14  \n",
       "Year                                  \n",
       "2012   279.0   279.0   286.0   290.0  \n",
       "2013   245.0   245.0   245.0   245.0  \n",
       "2014   378.0   378.0   378.0   378.0  \n",
       "2015   338.0   338.0   338.0   338.0  \n",
       "2016   498.0   498.0   498.0   498.0  \n",
       "2017   359.0   359.0   359.0   359.0  \n",
       "2018   542.0   542.0   542.0   542.0  \n",
       "2019     NaN     NaN     NaN     NaN  "
      ]
     },
     "execution_count": 7,
     "metadata": {},
     "output_type": "execute_result"
    }
   ],
   "source": [
    "generalData"
   ]
  },
  {
   "cell_type": "code",
   "execution_count": 5,
   "metadata": {
    "ExecuteTime": {
     "end_time": "2019-03-16T21:05:54.071218Z",
     "start_time": "2019-03-16T21:05:54.002850Z"
    }
   },
   "outputs": [],
   "source": [
    "generalData = pd.read_excel(env.PAST_RETURNS_FILE_PATH, sheet_name='Data-general')\n",
    "generalData.set_index('Year', inplace=True)\n",
    "generalEligible = generalData['Eligible']\n",
    "generalData.drop(columns=['Final', 'Eligible', '%Eligible'], inplace=True)\n",
    "generalData.dropna(axis=1, how='all', inplace=True)\n",
    "\n",
    "senateData = pd.read_excel(env.PAST_RETURNS_FILE_PATH, sheet_name='Data-senate')\n",
    "senateData.set_index('Year', inplace=True)\n",
    "senateEligible = senateData['Eligible']\n",
    "senateData.drop(columns=['Final', 'Eligible', '%Eligible'], inplace=True)\n",
    "senateData.dropna(axis=1, how='all', inplace=True)\n",
    "\n",
    "\n",
    "def calc_proport_of_eligible(frame, year, total):\n",
    "    numEligible = frame.loc[year]\n",
    "    return total / numEligible\n",
    "\n",
    "generalProport = generalData.apply(lambda x : calc_proport_of_eligible(generalEligible, x.index, x))\n",
    "senateProport =  senateData.apply(lambda x : calc_proport_of_eligible(senateEligible, x.index, x))"
   ]
  },
  {
   "cell_type": "code",
   "execution_count": null,
   "metadata": {},
   "outputs": [],
   "source": []
  },
  {
   "cell_type": "code",
   "execution_count": null,
   "metadata": {},
   "outputs": [],
   "source": []
  },
  {
   "cell_type": "code",
   "execution_count": null,
   "metadata": {},
   "outputs": [],
   "source": []
  },
  {
   "cell_type": "code",
   "execution_count": null,
   "metadata": {},
   "outputs": [],
   "source": []
  },
  {
   "cell_type": "markdown",
   "metadata": {},
   "source": [
    "# Problem cases\n",
    "\n",
    "2 candidates with same name\n",
    "    \n",
    "    Same dept\n",
    "    \n",
    "    Different dept\n",
    "    \n",
    "Write in candidate with no dept\n",
    "\n",
    "Write in candidate with dept in parentheses\n",
    "\n",
    "Write in candidate with dept, no parentheses\n",
    "\n",
    "Vote for 1 candidate, write in same candidate (up to num allowed -1)\n",
    "\n",
    "Write in multiple candidates in one field\n",
    "\n",
    "Write same candidate in multiple times"
   ]
  },
  {
   "cell_type": "code",
   "execution_count": null,
   "metadata": {},
   "outputs": [],
   "source": []
  },
  {
   "cell_type": "code",
   "execution_count": null,
   "metadata": {},
   "outputs": [],
   "source": []
  },
  {
   "cell_type": "code",
   "execution_count": null,
   "metadata": {},
   "outputs": [],
   "source": []
  },
  {
   "cell_type": "code",
   "execution_count": null,
   "metadata": {},
   "outputs": [],
   "source": []
  },
  {
   "cell_type": "markdown",
   "metadata": {},
   "source": [
    "# General election"
   ]
  },
  {
   "cell_type": "markdown",
   "metadata": {
    "ExecuteTime": {
     "end_time": "2018-03-15T17:19:18.363836Z",
     "start_time": "2018-03-15T17:19:18.361437Z"
    }
   },
   "source": [
    "## Total votes cast"
   ]
  },
  {
   "cell_type": "code",
   "execution_count": null,
   "metadata": {
    "ExecuteTime": {
     "end_time": "2018-03-22T00:40:46.621752Z",
     "start_time": "2018-03-22T00:40:46.590973Z"
    }
   },
   "outputs": [],
   "source": [
    "generalData"
   ]
  },
  {
   "cell_type": "code",
   "execution_count": 6,
   "metadata": {
    "ExecuteTime": {
     "end_time": "2019-03-16T21:06:58.890713Z",
     "start_time": "2019-03-16T21:06:58.568471Z"
    }
   },
   "outputs": [
    {
     "data": {
      "image/png": "[encoded data removed]",
      "text/plain": [
       "<Figure size 576x288 with 1 Axes>"
      ]
     },
     "metadata": {
      "needs_background": "light"
     },
     "output_type": "display_data"
    }
   ],
   "source": [
    "fig, axes = plt.subplots(figsize=(8,4))\n",
    "generalData.T.plot(ax=axes)\n",
    "axes.set_title(\"General election -- total votes\")\n",
    "axes.set_ylabel(\"Total votes cast\"); axes.set_xlabel(\"Day in election period\")\n",
    "fig.tight_layout()"
   ]
  },
  {
   "cell_type": "markdown",
   "metadata": {},
   "source": [
    "## Proportion of eligible voters"
   ]
  },
  {
   "cell_type": "code",
   "execution_count": null,
   "metadata": {
    "ExecuteTime": {
     "end_time": "2018-03-22T00:40:47.298850Z",
     "start_time": "2018-03-22T00:40:46.954830Z"
    }
   },
   "outputs": [],
   "source": [
    "fig, axes = plt.subplots(figsize=(8,4))\n",
    "generalProport.T.plot(ax=axes)\n",
    "axes.set_title(\"General election returns -- proportion of eligible voters\")\n",
    "axes.set_ylabel(\"# eligible voters / total votes\"); axes.set_xlabel(\"Day in election period\")\n",
    "fig.tight_layout()"
   ]
  },
  {
   "cell_type": "markdown",
   "metadata": {},
   "source": [
    "## Daily marginal votes cast"
   ]
  },
  {
   "cell_type": "code",
   "execution_count": null,
   "metadata": {
    "ExecuteTime": {
     "end_time": "2018-03-22T00:40:47.333633Z",
     "start_time": "2018-03-22T00:40:47.300952Z"
    }
   },
   "outputs": [],
   "source": [
    "generalMarginal = generalData.T.sub(generalData.T.shift(1), axis='columns').T.drop('Day 1', axis=1)\n",
    "generalMarginal"
   ]
  },
  {
   "cell_type": "code",
   "execution_count": null,
   "metadata": {
    "ExecuteTime": {
     "end_time": "2018-03-22T00:40:47.700201Z",
     "start_time": "2018-03-22T00:40:47.335497Z"
    }
   },
   "outputs": [],
   "source": [
    "fig, axes = plt.subplots(figsize=(8,4))\n",
    "sns.boxplot(data=generalMarginal.dropna(axis=1), ax=axes)\n",
    "axes.set_title(\"General election - marginal votes by day\")\n",
    "axes.set_ylabel(\"# votes (%s-%s)\" % (generalMarginal.index.min(), generalMarginal.index.max()))\n",
    "fig.tight_layout()"
   ]
  },
  {
   "cell_type": "markdown",
   "metadata": {
    "ExecuteTime": {
     "end_time": "2018-03-15T17:18:00.719945Z",
     "start_time": "2018-03-15T17:18:00.717663Z"
    }
   },
   "source": [
    "# Senate-elected positions election "
   ]
  },
  {
   "cell_type": "markdown",
   "metadata": {},
   "source": [
    "## Total votes cast"
   ]
  },
  {
   "cell_type": "code",
   "execution_count": null,
   "metadata": {
    "ExecuteTime": {
     "end_time": "2018-03-22T00:40:47.719818Z",
     "start_time": "2018-03-22T00:40:47.702138Z"
    }
   },
   "outputs": [],
   "source": [
    "senateData"
   ]
  },
  {
   "cell_type": "code",
   "execution_count": null,
   "metadata": {
    "ExecuteTime": {
     "end_time": "2018-03-22T00:40:47.980363Z",
     "start_time": "2018-03-22T00:40:47.723049Z"
    }
   },
   "outputs": [],
   "source": [
    "fig, axes = plt.subplots(figsize=(8,4))\n",
    "senateData.T.plot(ax=axes)\n",
    "axes.set_title(\"Senate-elected positions election --- total votes\")\n",
    "fig.tight_layout()"
   ]
  },
  {
   "cell_type": "markdown",
   "metadata": {},
   "source": [
    "## Proportion of eligible voters"
   ]
  },
  {
   "cell_type": "code",
   "execution_count": null,
   "metadata": {
    "ExecuteTime": {
     "end_time": "2018-03-22T00:40:48.253552Z",
     "start_time": "2018-03-22T00:40:47.983316Z"
    }
   },
   "outputs": [],
   "source": [
    "fig, axes = plt.subplots(figsize=(8,4))\n",
    "senateProport.T.plot(ax=axes)\n",
    "axes.set_title(\"Senate election returns -- proportion of eligible senate voters\")\n",
    "axes.set_ylabel(\"# eligible voters / total votes\"); axes.set_xlabel(\"Day in election period\")\n",
    "fig.tight_layout()"
   ]
  },
  {
   "cell_type": "markdown",
   "metadata": {},
   "source": [
    "## Votes cast per day"
   ]
  },
  {
   "cell_type": "code",
   "execution_count": null,
   "metadata": {
    "ExecuteTime": {
     "end_time": "2018-03-22T00:40:48.281571Z",
     "start_time": "2018-03-22T00:40:48.255468Z"
    }
   },
   "outputs": [],
   "source": [
    "senateMarginal = senateData.T.sub(senateData.T.shift(1), axis='columns').T.drop('Day 1', axis=1)\n",
    "senateMarginal"
   ]
  },
  {
   "cell_type": "code",
   "execution_count": null,
   "metadata": {
    "ExecuteTime": {
     "end_time": "2018-03-22T00:40:48.634373Z",
     "start_time": "2018-03-22T00:40:48.284358Z"
    }
   },
   "outputs": [],
   "source": [
    "fig, axes = plt.subplots(figsize=(8,4))\n",
    "sns.boxplot(data=senateMarginal.dropna(axis=1), ax=axes)\n",
    "axes.set_title(\"Senate-elected positions -- marginal votes by day\")\n",
    "axes.set_ylabel(\"# votes (%s-%s)\" % (senateMarginal.index.min(), senateMarginal.index.max()))\n",
    "fig.tight_layout()"
   ]
  },
  {
   "cell_type": "code",
   "execution_count": null,
   "metadata": {},
   "outputs": [],
   "source": []
  },
  {
   "cell_type": "code",
   "execution_count": null,
   "metadata": {},
   "outputs": [],
   "source": []
  },
  {
   "cell_type": "code",
   "execution_count": null,
   "metadata": {},
   "outputs": [],
   "source": []
  },
  {
   "cell_type": "markdown",
   "metadata": {},
   "source": [
    "# Election design and machinery"
   ]
  },
  {
   "cell_type": "code",
   "execution_count": null,
   "metadata": {
    "ExecuteTime": {
     "end_time": "2018-03-25T20:03:26.704603Z",
     "start_time": "2018-03-25T20:03:26.699420Z"
    }
   },
   "outputs": [],
   "source": [
    "ELECTION_YEAR = 2018\n",
    "resultsFolder = \"%s/Box Sync/Faculty Senate Collaborative Documents/Elections/Results/\" % BASE\n",
    "currentElection = \"%s/%s Elections official results\" % (resultsFolder, ELECTION_YEAR)\n",
    "senateFolder = \"%s/senate official results\" % currentElection\n",
    "generalFolder = \"%s/general official results\" % currentElection"
   ]
  },
  {
   "cell_type": "code",
   "execution_count": null,
   "metadata": {
    "ExecuteTime": {
     "end_time": "2018-03-25T21:30:29.788344Z",
     "start_time": "2018-03-25T21:30:29.697952Z"
    }
   },
   "outputs": [],
   "source": [
    "resultFileString = \"Results.xlsx\"\n",
    "senateFiles = [f for f in makeDataFileList(senateFolder) if f[-12:] == resultFileString]\n",
    "generalFiles = [f for f in makeDataFileList(generalFolder) if f[-12:] == resultFileString]\n",
    "senateFrames = [pd.read_excel(f) for f in senateFiles]\n",
    "generalFrames = [pd.read_excel(f) for f in generalFiles]"
   ]
  },
  {
   "cell_type": "code",
   "execution_count": null,
   "metadata": {
    "ExecuteTime": {
     "end_time": "2018-03-25T21:30:56.795908Z",
     "start_time": "2018-03-25T21:30:56.706244Z"
    }
   },
   "outputs": [],
   "source": [
    "def number_of_abstentions(frame):\n",
    "    \"\"\"Returns the number of blank ballots minus the\n",
    "    number of write in votes\"\"\"\n",
    "    # get the name of the first column. \n",
    "    # this will be the committee's name\n",
    "    committeeName = frame.columns[0]\n",
    "    abstentions = frame[frame[committeeName] == 'abstentions']['votes']\n",
    "    abstentions = int(abstentions)\n",
    "    # now we need to subtract the writeins\n",
    "    # since any write-in will be  counted as an\n",
    "    # abstention\n",
    "    #\n",
    "    # !!!!!!!!!!!!! todo double-check in code\n",
    "    try:\n",
    "        wi = frame[frame[committeeName] == 'writeins-unverified']['votes']\n",
    "        wi = int(wi)        \n",
    "        abstentions = abstentions + wi\n",
    "    except:\n",
    "        pass\n",
    "    return (committeeName, abstentions)\n",
    "\n",
    "def number_of_illegal_overselections(frame):\n",
    "    # get the name of the first column. \n",
    "    # this will be the committee's name\n",
    "    committeeName = frame.columns[0]\n",
    "#     print(committeeName)\n",
    "    v = frame[frame[committeeName] == 'illegal-overselection']['votes']\n",
    "    v = int(v)\n",
    "    return (committeeName, v)\n",
    "\n",
    "def number_manually_disqualified(frame):\n",
    "    committeeName = frame.columns[0]\n",
    "#     print(committeeName)\n",
    "    # get rid of any of the programmatically added columns\n",
    "    v = frame.dropna()\n",
    "    # add up the disqualified votes\n",
    "    v = int(v.dq.sum())\n",
    "    return (committeeName, v)\n",
    "\n",
    "def number_illegal(frame):\n",
    "    committeeName = frame.columns[0]\n",
    "#     print(committeeName)\n",
    "    #programmaticOverselections: too many boxes ticked\n",
    "    po = number_of_illegal_overselections(frame)\n",
    "    #write ins which invalidated the vote\n",
    "    wi = number_manually_disqualified(frame)\n",
    "    num =  po[1] + wi[1]\n",
    "    return (committeeName, num)  "
   ]
  },
  {
   "cell_type": "code",
   "execution_count": null,
   "metadata": {
    "ExecuteTime": {
     "end_time": "2018-03-25T21:39:21.459059Z",
     "start_time": "2018-03-25T21:39:21.443644Z"
    }
   },
   "outputs": [],
   "source": [
    "def get_frame_for_plotting(func, columnName):\n",
    "    v =  [func(frame) for frame in senateFrames]\n",
    "    v =  v + [func(frame) for frame in generalFrames]\n",
    "    return DataFrame(v, columns=['election', columnName]).set_index('election')\n",
    "\n",
    "def plot_frame(frame, title, ylabel):\n",
    "    fig, axes = plt.subplots(figsize=(8,3))\n",
    "    frame.plot(kind='bar', table=True, ax=axes)\n",
    "    x_axis = axes.get_xaxis(); axes.set_ylabel(ylabel)\n",
    "    x_axis.set_visible(False); axes.set_title(title)\n",
    "    fig.tight_layout()"
   ]
  },
  {
   "cell_type": "code",
   "execution_count": null,
   "metadata": {
    "ExecuteTime": {
     "end_time": "2018-03-25T21:40:27.625236Z",
     "start_time": "2018-03-25T21:40:27.144706Z"
    }
   },
   "outputs": [],
   "source": [
    "overselections = get_frame_for_plotting(number_of_illegal_overselections, 'over-selections')\n",
    "plot_frame(overselections,  'Number ballots spoiled by too many candidates being selected', 'count')"
   ]
  },
  {
   "cell_type": "markdown",
   "metadata": {},
   "source": [
    "\n",
    "## Write-in boxes\n"
   ]
  },
  {
   "cell_type": "code",
   "execution_count": null,
   "metadata": {
    "ExecuteTime": {
     "end_time": "2018-03-25T21:41:18.098670Z",
     "start_time": "2018-03-25T21:41:17.588676Z"
    }
   },
   "outputs": [],
   "source": [
    "dq = get_frame_for_plotting(number_manually_disqualified, 'disqualified')\n",
    "plot_frame(dq,\"Number of ballots disqualified due to write-ins\", \"# of ballots disqualified\")"
   ]
  },
  {
   "cell_type": "markdown",
   "metadata": {},
   "source": [
    "### Abstentions \n"
   ]
  },
  {
   "cell_type": "code",
   "execution_count": null,
   "metadata": {
    "ExecuteTime": {
     "end_time": "2018-03-25T21:50:52.513878Z",
     "start_time": "2018-03-25T21:50:52.021734Z"
    }
   },
   "outputs": [],
   "source": [
    "abstentions = get_frame_for_plotting(number_of_abstentions, 'abstentions')\n",
    "plot_frame(abstentions, \"Number of blank ballots\", \"# of privations\")"
   ]
  },
  {
   "cell_type": "code",
   "execution_count": null,
   "metadata": {},
   "outputs": [],
   "source": []
  },
  {
   "cell_type": "code",
   "execution_count": null,
   "metadata": {},
   "outputs": [],
   "source": []
  },
  {
   "cell_type": "code",
   "execution_count": null,
   "metadata": {},
   "outputs": [],
   "source": []
  },
  {
   "cell_type": "code",
   "execution_count": null,
   "metadata": {},
   "outputs": [],
   "source": []
  },
  {
   "cell_type": "code",
   "execution_count": null,
   "metadata": {},
   "outputs": [],
   "source": []
  },
  {
   "cell_type": "code",
   "execution_count": null,
   "metadata": {},
   "outputs": [],
   "source": []
  },
  {
   "cell_type": "code",
   "execution_count": null,
   "metadata": {},
   "outputs": [],
   "source": []
  },
  {
   "cell_type": "code",
   "execution_count": null,
   "metadata": {},
   "outputs": [],
   "source": []
  },
  {
   "cell_type": "code",
   "execution_count": null,
   "metadata": {},
   "outputs": [],
   "source": []
  },
  {
   "cell_type": "markdown",
   "metadata": {},
   "source": [
    "# Questions:\n",
    "- How many votes were invalid because of the overselection (illegal-overselction + invalid) in each election?\n",
    "\n",
    "- How many abstentions were there"
   ]
  },
  {
   "cell_type": "code",
   "execution_count": null,
   "metadata": {
    "ExecuteTime": {
     "end_time": "2018-03-25T18:32:14.945568Z",
     "start_time": "2018-03-25T18:32:14.942824Z"
    }
   },
   "outputs": [],
   "source": [
    "SENATE_VOTES = 50 #todo refer to value calculated above, just need election year\n",
    "SENATE_ELLIGIBLE = 71 #todo refer to value calculated above, just need election year"
   ]
  },
  {
   "cell_type": "code",
   "execution_count": null,
   "metadata": {
    "ExecuteTime": {
     "end_time": "2018-03-25T19:13:05.725858Z",
     "start_time": "2018-03-25T19:13:05.702638Z"
    }
   },
   "outputs": [],
   "source": [
    "# calculate illegal votes\n",
    "illegalVotes = [number_illegal(frame) for frame in generalFrames]\n",
    "# illegalVotes = DataFrame(illegalVotes, columns=['Office', 'Illegal votes'])\n",
    "#abstentions"
   ]
  },
  {
   "cell_type": "code",
   "execution_count": null,
   "metadata": {
    "ExecuteTime": {
     "end_time": "2018-03-25T19:12:05.390979Z",
     "start_time": "2018-03-25T19:12:05.382652Z"
    }
   },
   "outputs": [],
   "source": [
    "generalAbstentions =  [number_of_abstentions(frame) for frame in generalFrames]\n",
    "generalAbstentions = DataFrame(generalAbstentions, columns=['Position', 'Abstentions'])\n"
   ]
  },
  {
   "cell_type": "code",
   "execution_count": null,
   "metadata": {
    "ExecuteTime": {
     "end_time": "2018-03-25T19:12:13.518844Z",
     "start_time": "2018-03-25T19:12:13.510445Z"
    }
   },
   "outputs": [],
   "source": [
    "abstentions"
   ]
  },
  {
   "cell_type": "code",
   "execution_count": null,
   "metadata": {},
   "outputs": [],
   "source": []
  },
  {
   "cell_type": "code",
   "execution_count": null,
   "metadata": {},
   "outputs": [],
   "source": []
  },
  {
   "cell_type": "code",
   "execution_count": null,
   "metadata": {},
   "outputs": [],
   "source": []
  },
  {
   "cell_type": "code",
   "execution_count": null,
   "metadata": {},
   "outputs": [],
   "source": []
  },
  {
   "cell_type": "code",
   "execution_count": null,
   "metadata": {
    "ExecuteTime": {
     "end_time": "2018-03-25T19:10:46.163583Z",
     "start_time": "2018-03-25T19:10:46.131656Z"
    }
   },
   "outputs": [],
   "source": [
    "# calculate illegal votes\n",
    "illegalVotes = [number_illegal(frame) for frame in senateFrames]\n",
    "illegalVotes = DataFrame(illegalVotes, columns=['election', 'Illegal votes'])\n",
    "# these are included in illegal\n",
    "overselections = [number_of_illegal_overselections(frame) for frame in senateFrames]\n",
    "overselections = DataFrame(overselections, columns=['election', 'Overselections'])\n",
    "\n",
    "data = pd.merge(left=abstentions, right=illegalVotes, on='election').set_index('election')"
   ]
  },
  {
   "cell_type": "code",
   "execution_count": null,
   "metadata": {
    "ExecuteTime": {
     "end_time": "2018-03-25T19:01:57.772372Z",
     "start_time": "2018-03-25T19:01:57.500540Z"
    }
   },
   "outputs": [],
   "source": [
    "fig, axes = plt.subplots(figsize=(8,4))\n",
    "data.plot(kind='bar', ax=axes)\n",
    "axes.set_title(\"Counts of abstentions and illegal votes for standing committee elections\")\n",
    "axes.set_ylabel(\"Count\")\n",
    "fig.tight_layout()"
   ]
  },
  {
   "cell_type": "code",
   "execution_count": null,
   "metadata": {
    "ExecuteTime": {
     "end_time": "2018-03-25T19:05:31.161520Z",
     "start_time": "2018-03-25T19:05:31.139514Z"
    }
   },
   "outputs": [],
   "source": [
    "pctEligible = data.copy(deep=True)\n",
    "pctVoters = data.copy(deep=True)\n",
    "pctVoters.drop(['Abstentions', 'Illegal votes'], axis=1, inplace=True)\n",
    "pctEligible.drop(['Abstentions', 'Illegal votes'], axis=1, inplace=True)\n",
    "\n",
    "\n",
    "pctEligible['abstentions'] = data.Abstentions.apply(lambda x : x / SENATE_ELLIGIBLE)\n",
    "pctEligible['illegal'] = data['Illegal votes'].apply(lambda x : x / SENATE_ELLIGIBLE)\n",
    "\n",
    "pctVoters['abstentions'] = data.Abstentions.apply(lambda x : x / SENATE_VOTES)\n",
    "pctVoters['illegal'] = data['Illegal votes'].apply(lambda x : x / SENATE_ELLIGIBLE)\n",
    "\n",
    "# pctEligible['abstentions'] = data.Abstentions.apply(lambda x : int((x / SENATE_ELLIGIBLE)* 100))\n",
    "# pctEligible['illegal'] = data['Illegal votes'].apply(lambda x : int((x / SENATE_ELLIGIBLE)* 100))\n",
    "\n",
    "# pctVoters['abstentions'] = data.Abstentions.apply(lambda x : int((x / SENATE_VOTES) * 100))\n",
    "# pctVoters['illegal'] = data['Illegal votes'].apply(lambda x : int((x / SENATE_ELLIGIBLE) * 100))"
   ]
  },
  {
   "cell_type": "code",
   "execution_count": null,
   "metadata": {
    "ExecuteTime": {
     "end_time": "2018-03-25T19:06:42.463923Z",
     "start_time": "2018-03-25T19:06:42.028142Z"
    }
   },
   "outputs": [],
   "source": [
    "fig, axes = plt.subplots(nrows=2)\n",
    "pctEligible.plot(kind='bar', ax=axes[0])\n",
    "axes[0].set_title(\"Abstentions and illegal votes as proportion of eligible voters\")\n",
    "axes[0].set_ylabel(\"count / # eligible \")\n",
    "pctVoters.plot(kind='bar', ax=axes[1])\n",
    "axes[1].set_ylabel(\"count / # case \")\n",
    "axes[1].set_title(\"Abstentions and illegal votes as proportion of votes cast\")\n",
    "fig.tight_layout()"
   ]
  }
 ],
 "metadata": {
  "kernelspec": {
   "display_name": "Python 3",
   "language": "python",
   "name": "python3"
  },
  "language_info": {
   "codemirror_mode": {
    "name": "ipython",
    "version": 3
   },
   "file_extension": ".py",
   "mimetype": "text/x-python",
   "name": "python",
   "nbconvert_exporter": "python",
   "pygments_lexer": "ipython3",
   "version": "3.6.4"
  },
  "toc": {
   "base_numbering": 1,
   "nav_menu": {
    "height": "12px",
    "width": "252px"
   },
   "number_sections": true,
   "sideBar": true,
   "skip_h1_title": false,
   "title_cell": "Table of Contents",
   "title_sidebar": "Contents",
   "toc_cell": false,
   "toc_position": {},
   "toc_section_display": "block",
   "toc_window_display": false
  }
 },
 "nbformat": 4,
 "nbformat_minor": 1
}
